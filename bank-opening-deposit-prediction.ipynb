{
 "cells": [
  {
   "cell_type": "code",
   "execution_count": 1,
   "id": "6773d29b",
   "metadata": {
    "execution": {
     "iopub.execute_input": "2024-11-04T16:26:57.327320Z",
     "iopub.status.busy": "2024-11-04T16:26:57.326784Z",
     "iopub.status.idle": "2024-11-04T16:27:00.808859Z",
     "shell.execute_reply": "2024-11-04T16:27:00.807577Z"
    },
    "papermill": {
     "duration": 3.497665,
     "end_time": "2024-11-04T16:27:00.811705",
     "exception": false,
     "start_time": "2024-11-04T16:26:57.314040",
     "status": "completed"
    },
    "tags": []
   },
   "outputs": [],
   "source": [
    "from datetime import datetime\n",
    "\n",
    "# runtime\n",
    "import timeit\n",
    "\n",
    "# Data Manipulation\n",
    "import numpy as np\n",
    "import pandas as pd\n",
    "\n",
    "# Viz\n",
    "import matplotlib.pyplot as plt\n",
    "import seaborn as sns\n",
    "\n",
    "# Preprocessing\n",
    "from sklearn.feature_selection import RFE\n",
    "from sklearn.model_selection import train_test_split\n",
    "from sklearn.ensemble import RandomForestClassifier\n",
    "from sklearn.ensemble import GradientBoostingClassifier\n",
    "from sklearn.neighbors import KNeighborsClassifier\n",
    "from sklearn.preprocessing import StandardScaler\n",
    "from imblearn.over_sampling import SMOTE\n",
    "\n",
    "\n",
    "\n",
    "%matplotlib inline\n",
    "\n",
    "#ignore warnings\n",
    "import warnings\n",
    "warnings.filterwarnings('ignore')\n"
   ]
  },
  {
   "cell_type": "code",
   "execution_count": 2,
   "id": "0f66273b",
   "metadata": {
    "execution": {
     "iopub.execute_input": "2024-11-04T16:27:00.835295Z",
     "iopub.status.busy": "2024-11-04T16:27:00.834736Z",
     "iopub.status.idle": "2024-11-04T16:27:01.058958Z",
     "shell.execute_reply": "2024-11-04T16:27:01.057580Z"
    },
    "papermill": {
     "duration": 0.239917,
     "end_time": "2024-11-04T16:27:01.061712",
     "exception": false,
     "start_time": "2024-11-04T16:27:00.821795",
     "status": "completed"
    },
    "tags": []
   },
   "outputs": [
    {
     "data": {
      "text/plain": [
       "(41188, 21)"
      ]
     },
     "execution_count": 2,
     "metadata": {},
     "output_type": "execute_result"
    }
   ],
   "source": [
    "df = pd.read_csv(r\"/kaggle/input/bank-marketing-campaigns-dataset/bank-additional-full.csv\", sep=';')\n",
    "df.shape"
   ]
  },
  {
   "cell_type": "code",
   "execution_count": 3,
   "id": "2c85ddfc",
   "metadata": {
    "execution": {
     "iopub.execute_input": "2024-11-04T16:27:01.083662Z",
     "iopub.status.busy": "2024-11-04T16:27:01.083199Z",
     "iopub.status.idle": "2024-11-04T16:27:01.125558Z",
     "shell.execute_reply": "2024-11-04T16:27:01.124248Z"
    },
    "papermill": {
     "duration": 0.056136,
     "end_time": "2024-11-04T16:27:01.128006",
     "exception": false,
     "start_time": "2024-11-04T16:27:01.071870",
     "status": "completed"
    },
    "tags": []
   },
   "outputs": [
    {
     "data": {
      "text/html": [
       "<div>\n",
       "<style scoped>\n",
       "    .dataframe tbody tr th:only-of-type {\n",
       "        vertical-align: middle;\n",
       "    }\n",
       "\n",
       "    .dataframe tbody tr th {\n",
       "        vertical-align: top;\n",
       "    }\n",
       "\n",
       "    .dataframe thead th {\n",
       "        text-align: right;\n",
       "    }\n",
       "</style>\n",
       "<table border=\"1\" class=\"dataframe\">\n",
       "  <thead>\n",
       "    <tr style=\"text-align: right;\">\n",
       "      <th></th>\n",
       "      <th>age</th>\n",
       "      <th>job</th>\n",
       "      <th>marital</th>\n",
       "      <th>education</th>\n",
       "      <th>default</th>\n",
       "      <th>housing</th>\n",
       "      <th>loan</th>\n",
       "      <th>contact</th>\n",
       "      <th>month</th>\n",
       "      <th>day_of_week</th>\n",
       "      <th>...</th>\n",
       "      <th>campaign</th>\n",
       "      <th>pdays</th>\n",
       "      <th>previous</th>\n",
       "      <th>poutcome</th>\n",
       "      <th>emp.var.rate</th>\n",
       "      <th>cons.price.idx</th>\n",
       "      <th>cons.conf.idx</th>\n",
       "      <th>euribor3m</th>\n",
       "      <th>nr.employed</th>\n",
       "      <th>y</th>\n",
       "    </tr>\n",
       "  </thead>\n",
       "  <tbody>\n",
       "    <tr>\n",
       "      <th>0</th>\n",
       "      <td>56</td>\n",
       "      <td>housemaid</td>\n",
       "      <td>married</td>\n",
       "      <td>basic.4y</td>\n",
       "      <td>no</td>\n",
       "      <td>no</td>\n",
       "      <td>no</td>\n",
       "      <td>telephone</td>\n",
       "      <td>may</td>\n",
       "      <td>mon</td>\n",
       "      <td>...</td>\n",
       "      <td>1</td>\n",
       "      <td>999</td>\n",
       "      <td>0</td>\n",
       "      <td>nonexistent</td>\n",
       "      <td>1.1</td>\n",
       "      <td>93.994</td>\n",
       "      <td>-36.4</td>\n",
       "      <td>4.857</td>\n",
       "      <td>5191.0</td>\n",
       "      <td>no</td>\n",
       "    </tr>\n",
       "    <tr>\n",
       "      <th>1</th>\n",
       "      <td>57</td>\n",
       "      <td>services</td>\n",
       "      <td>married</td>\n",
       "      <td>high.school</td>\n",
       "      <td>unknown</td>\n",
       "      <td>no</td>\n",
       "      <td>no</td>\n",
       "      <td>telephone</td>\n",
       "      <td>may</td>\n",
       "      <td>mon</td>\n",
       "      <td>...</td>\n",
       "      <td>1</td>\n",
       "      <td>999</td>\n",
       "      <td>0</td>\n",
       "      <td>nonexistent</td>\n",
       "      <td>1.1</td>\n",
       "      <td>93.994</td>\n",
       "      <td>-36.4</td>\n",
       "      <td>4.857</td>\n",
       "      <td>5191.0</td>\n",
       "      <td>no</td>\n",
       "    </tr>\n",
       "    <tr>\n",
       "      <th>2</th>\n",
       "      <td>37</td>\n",
       "      <td>services</td>\n",
       "      <td>married</td>\n",
       "      <td>high.school</td>\n",
       "      <td>no</td>\n",
       "      <td>yes</td>\n",
       "      <td>no</td>\n",
       "      <td>telephone</td>\n",
       "      <td>may</td>\n",
       "      <td>mon</td>\n",
       "      <td>...</td>\n",
       "      <td>1</td>\n",
       "      <td>999</td>\n",
       "      <td>0</td>\n",
       "      <td>nonexistent</td>\n",
       "      <td>1.1</td>\n",
       "      <td>93.994</td>\n",
       "      <td>-36.4</td>\n",
       "      <td>4.857</td>\n",
       "      <td>5191.0</td>\n",
       "      <td>no</td>\n",
       "    </tr>\n",
       "    <tr>\n",
       "      <th>3</th>\n",
       "      <td>40</td>\n",
       "      <td>admin.</td>\n",
       "      <td>married</td>\n",
       "      <td>basic.6y</td>\n",
       "      <td>no</td>\n",
       "      <td>no</td>\n",
       "      <td>no</td>\n",
       "      <td>telephone</td>\n",
       "      <td>may</td>\n",
       "      <td>mon</td>\n",
       "      <td>...</td>\n",
       "      <td>1</td>\n",
       "      <td>999</td>\n",
       "      <td>0</td>\n",
       "      <td>nonexistent</td>\n",
       "      <td>1.1</td>\n",
       "      <td>93.994</td>\n",
       "      <td>-36.4</td>\n",
       "      <td>4.857</td>\n",
       "      <td>5191.0</td>\n",
       "      <td>no</td>\n",
       "    </tr>\n",
       "    <tr>\n",
       "      <th>4</th>\n",
       "      <td>56</td>\n",
       "      <td>services</td>\n",
       "      <td>married</td>\n",
       "      <td>high.school</td>\n",
       "      <td>no</td>\n",
       "      <td>no</td>\n",
       "      <td>yes</td>\n",
       "      <td>telephone</td>\n",
       "      <td>may</td>\n",
       "      <td>mon</td>\n",
       "      <td>...</td>\n",
       "      <td>1</td>\n",
       "      <td>999</td>\n",
       "      <td>0</td>\n",
       "      <td>nonexistent</td>\n",
       "      <td>1.1</td>\n",
       "      <td>93.994</td>\n",
       "      <td>-36.4</td>\n",
       "      <td>4.857</td>\n",
       "      <td>5191.0</td>\n",
       "      <td>no</td>\n",
       "    </tr>\n",
       "  </tbody>\n",
       "</table>\n",
       "<p>5 rows × 21 columns</p>\n",
       "</div>"
      ],
      "text/plain": [
       "   age        job  marital    education  default housing loan    contact  \\\n",
       "0   56  housemaid  married     basic.4y       no      no   no  telephone   \n",
       "1   57   services  married  high.school  unknown      no   no  telephone   \n",
       "2   37   services  married  high.school       no     yes   no  telephone   \n",
       "3   40     admin.  married     basic.6y       no      no   no  telephone   \n",
       "4   56   services  married  high.school       no      no  yes  telephone   \n",
       "\n",
       "  month day_of_week  ...  campaign  pdays  previous     poutcome emp.var.rate  \\\n",
       "0   may         mon  ...         1    999         0  nonexistent          1.1   \n",
       "1   may         mon  ...         1    999         0  nonexistent          1.1   \n",
       "2   may         mon  ...         1    999         0  nonexistent          1.1   \n",
       "3   may         mon  ...         1    999         0  nonexistent          1.1   \n",
       "4   may         mon  ...         1    999         0  nonexistent          1.1   \n",
       "\n",
       "   cons.price.idx  cons.conf.idx  euribor3m  nr.employed   y  \n",
       "0          93.994          -36.4      4.857       5191.0  no  \n",
       "1          93.994          -36.4      4.857       5191.0  no  \n",
       "2          93.994          -36.4      4.857       5191.0  no  \n",
       "3          93.994          -36.4      4.857       5191.0  no  \n",
       "4          93.994          -36.4      4.857       5191.0  no  \n",
       "\n",
       "[5 rows x 21 columns]"
      ]
     },
     "execution_count": 3,
     "metadata": {},
     "output_type": "execute_result"
    }
   ],
   "source": [
    "df.head()"
   ]
  },
  {
   "cell_type": "code",
   "execution_count": 4,
   "id": "41fcef5f",
   "metadata": {
    "execution": {
     "iopub.execute_input": "2024-11-04T16:27:01.151346Z",
     "iopub.status.busy": "2024-11-04T16:27:01.150316Z",
     "iopub.status.idle": "2024-11-04T16:27:01.174893Z",
     "shell.execute_reply": "2024-11-04T16:27:01.173516Z"
    },
    "papermill": {
     "duration": 0.03917,
     "end_time": "2024-11-04T16:27:01.177607",
     "exception": false,
     "start_time": "2024-11-04T16:27:01.138437",
     "status": "completed"
    },
    "tags": []
   },
   "outputs": [
    {
     "data": {
      "text/html": [
       "<div>\n",
       "<style scoped>\n",
       "    .dataframe tbody tr th:only-of-type {\n",
       "        vertical-align: middle;\n",
       "    }\n",
       "\n",
       "    .dataframe tbody tr th {\n",
       "        vertical-align: top;\n",
       "    }\n",
       "\n",
       "    .dataframe thead th {\n",
       "        text-align: right;\n",
       "    }\n",
       "</style>\n",
       "<table border=\"1\" class=\"dataframe\">\n",
       "  <thead>\n",
       "    <tr style=\"text-align: right;\">\n",
       "      <th></th>\n",
       "      <th>age</th>\n",
       "      <th>job</th>\n",
       "      <th>marital</th>\n",
       "      <th>education</th>\n",
       "      <th>default</th>\n",
       "      <th>housing</th>\n",
       "      <th>loan</th>\n",
       "      <th>contact</th>\n",
       "      <th>month</th>\n",
       "      <th>day_of_week</th>\n",
       "      <th>...</th>\n",
       "      <th>campaign</th>\n",
       "      <th>pdays</th>\n",
       "      <th>previous</th>\n",
       "      <th>poutcome</th>\n",
       "      <th>emp.var.rate</th>\n",
       "      <th>cons.price.idx</th>\n",
       "      <th>cons.conf.idx</th>\n",
       "      <th>euribor3m</th>\n",
       "      <th>nr.employed</th>\n",
       "      <th>y</th>\n",
       "    </tr>\n",
       "  </thead>\n",
       "  <tbody>\n",
       "    <tr>\n",
       "      <th>41183</th>\n",
       "      <td>73</td>\n",
       "      <td>retired</td>\n",
       "      <td>married</td>\n",
       "      <td>professional.course</td>\n",
       "      <td>no</td>\n",
       "      <td>yes</td>\n",
       "      <td>no</td>\n",
       "      <td>cellular</td>\n",
       "      <td>nov</td>\n",
       "      <td>fri</td>\n",
       "      <td>...</td>\n",
       "      <td>1</td>\n",
       "      <td>999</td>\n",
       "      <td>0</td>\n",
       "      <td>nonexistent</td>\n",
       "      <td>-1.1</td>\n",
       "      <td>94.767</td>\n",
       "      <td>-50.8</td>\n",
       "      <td>1.028</td>\n",
       "      <td>4963.6</td>\n",
       "      <td>yes</td>\n",
       "    </tr>\n",
       "    <tr>\n",
       "      <th>41184</th>\n",
       "      <td>46</td>\n",
       "      <td>blue-collar</td>\n",
       "      <td>married</td>\n",
       "      <td>professional.course</td>\n",
       "      <td>no</td>\n",
       "      <td>no</td>\n",
       "      <td>no</td>\n",
       "      <td>cellular</td>\n",
       "      <td>nov</td>\n",
       "      <td>fri</td>\n",
       "      <td>...</td>\n",
       "      <td>1</td>\n",
       "      <td>999</td>\n",
       "      <td>0</td>\n",
       "      <td>nonexistent</td>\n",
       "      <td>-1.1</td>\n",
       "      <td>94.767</td>\n",
       "      <td>-50.8</td>\n",
       "      <td>1.028</td>\n",
       "      <td>4963.6</td>\n",
       "      <td>no</td>\n",
       "    </tr>\n",
       "    <tr>\n",
       "      <th>41185</th>\n",
       "      <td>56</td>\n",
       "      <td>retired</td>\n",
       "      <td>married</td>\n",
       "      <td>university.degree</td>\n",
       "      <td>no</td>\n",
       "      <td>yes</td>\n",
       "      <td>no</td>\n",
       "      <td>cellular</td>\n",
       "      <td>nov</td>\n",
       "      <td>fri</td>\n",
       "      <td>...</td>\n",
       "      <td>2</td>\n",
       "      <td>999</td>\n",
       "      <td>0</td>\n",
       "      <td>nonexistent</td>\n",
       "      <td>-1.1</td>\n",
       "      <td>94.767</td>\n",
       "      <td>-50.8</td>\n",
       "      <td>1.028</td>\n",
       "      <td>4963.6</td>\n",
       "      <td>no</td>\n",
       "    </tr>\n",
       "    <tr>\n",
       "      <th>41186</th>\n",
       "      <td>44</td>\n",
       "      <td>technician</td>\n",
       "      <td>married</td>\n",
       "      <td>professional.course</td>\n",
       "      <td>no</td>\n",
       "      <td>no</td>\n",
       "      <td>no</td>\n",
       "      <td>cellular</td>\n",
       "      <td>nov</td>\n",
       "      <td>fri</td>\n",
       "      <td>...</td>\n",
       "      <td>1</td>\n",
       "      <td>999</td>\n",
       "      <td>0</td>\n",
       "      <td>nonexistent</td>\n",
       "      <td>-1.1</td>\n",
       "      <td>94.767</td>\n",
       "      <td>-50.8</td>\n",
       "      <td>1.028</td>\n",
       "      <td>4963.6</td>\n",
       "      <td>yes</td>\n",
       "    </tr>\n",
       "    <tr>\n",
       "      <th>41187</th>\n",
       "      <td>74</td>\n",
       "      <td>retired</td>\n",
       "      <td>married</td>\n",
       "      <td>professional.course</td>\n",
       "      <td>no</td>\n",
       "      <td>yes</td>\n",
       "      <td>no</td>\n",
       "      <td>cellular</td>\n",
       "      <td>nov</td>\n",
       "      <td>fri</td>\n",
       "      <td>...</td>\n",
       "      <td>3</td>\n",
       "      <td>999</td>\n",
       "      <td>1</td>\n",
       "      <td>failure</td>\n",
       "      <td>-1.1</td>\n",
       "      <td>94.767</td>\n",
       "      <td>-50.8</td>\n",
       "      <td>1.028</td>\n",
       "      <td>4963.6</td>\n",
       "      <td>no</td>\n",
       "    </tr>\n",
       "  </tbody>\n",
       "</table>\n",
       "<p>5 rows × 21 columns</p>\n",
       "</div>"
      ],
      "text/plain": [
       "       age          job  marital            education default housing loan  \\\n",
       "41183   73      retired  married  professional.course      no     yes   no   \n",
       "41184   46  blue-collar  married  professional.course      no      no   no   \n",
       "41185   56      retired  married    university.degree      no     yes   no   \n",
       "41186   44   technician  married  professional.course      no      no   no   \n",
       "41187   74      retired  married  professional.course      no     yes   no   \n",
       "\n",
       "        contact month day_of_week  ...  campaign  pdays  previous  \\\n",
       "41183  cellular   nov         fri  ...         1    999         0   \n",
       "41184  cellular   nov         fri  ...         1    999         0   \n",
       "41185  cellular   nov         fri  ...         2    999         0   \n",
       "41186  cellular   nov         fri  ...         1    999         0   \n",
       "41187  cellular   nov         fri  ...         3    999         1   \n",
       "\n",
       "          poutcome emp.var.rate  cons.price.idx  cons.conf.idx  euribor3m  \\\n",
       "41183  nonexistent         -1.1          94.767          -50.8      1.028   \n",
       "41184  nonexistent         -1.1          94.767          -50.8      1.028   \n",
       "41185  nonexistent         -1.1          94.767          -50.8      1.028   \n",
       "41186  nonexistent         -1.1          94.767          -50.8      1.028   \n",
       "41187      failure         -1.1          94.767          -50.8      1.028   \n",
       "\n",
       "       nr.employed    y  \n",
       "41183       4963.6  yes  \n",
       "41184       4963.6   no  \n",
       "41185       4963.6   no  \n",
       "41186       4963.6  yes  \n",
       "41187       4963.6   no  \n",
       "\n",
       "[5 rows x 21 columns]"
      ]
     },
     "execution_count": 4,
     "metadata": {},
     "output_type": "execute_result"
    }
   ],
   "source": [
    "df.tail()"
   ]
  },
  {
   "cell_type": "code",
   "execution_count": 5,
   "id": "a6efe256",
   "metadata": {
    "execution": {
     "iopub.execute_input": "2024-11-04T16:27:01.201508Z",
     "iopub.status.busy": "2024-11-04T16:27:01.201099Z",
     "iopub.status.idle": "2024-11-04T16:27:01.232181Z",
     "shell.execute_reply": "2024-11-04T16:27:01.230859Z"
    },
    "papermill": {
     "duration": 0.045906,
     "end_time": "2024-11-04T16:27:01.234710",
     "exception": false,
     "start_time": "2024-11-04T16:27:01.188804",
     "status": "completed"
    },
    "tags": []
   },
   "outputs": [
    {
     "data": {
      "text/html": [
       "<div>\n",
       "<style scoped>\n",
       "    .dataframe tbody tr th:only-of-type {\n",
       "        vertical-align: middle;\n",
       "    }\n",
       "\n",
       "    .dataframe tbody tr th {\n",
       "        vertical-align: top;\n",
       "    }\n",
       "\n",
       "    .dataframe thead th {\n",
       "        text-align: right;\n",
       "    }\n",
       "</style>\n",
       "<table border=\"1\" class=\"dataframe\">\n",
       "  <thead>\n",
       "    <tr style=\"text-align: right;\">\n",
       "      <th></th>\n",
       "      <th>age</th>\n",
       "      <th>job</th>\n",
       "      <th>marital</th>\n",
       "      <th>education</th>\n",
       "      <th>default</th>\n",
       "      <th>housing</th>\n",
       "      <th>loan</th>\n",
       "      <th>contact</th>\n",
       "      <th>month</th>\n",
       "      <th>day_of_week</th>\n",
       "      <th>...</th>\n",
       "      <th>campaign</th>\n",
       "      <th>pdays</th>\n",
       "      <th>previous</th>\n",
       "      <th>poutcome</th>\n",
       "      <th>emp.var.rate</th>\n",
       "      <th>cons.price.idx</th>\n",
       "      <th>cons.conf.idx</th>\n",
       "      <th>euribor3m</th>\n",
       "      <th>nr.employed</th>\n",
       "      <th>y</th>\n",
       "    </tr>\n",
       "  </thead>\n",
       "  <tbody>\n",
       "    <tr>\n",
       "      <th>34752</th>\n",
       "      <td>48</td>\n",
       "      <td>services</td>\n",
       "      <td>single</td>\n",
       "      <td>basic.4y</td>\n",
       "      <td>unknown</td>\n",
       "      <td>yes</td>\n",
       "      <td>yes</td>\n",
       "      <td>cellular</td>\n",
       "      <td>may</td>\n",
       "      <td>thu</td>\n",
       "      <td>...</td>\n",
       "      <td>2</td>\n",
       "      <td>999</td>\n",
       "      <td>0</td>\n",
       "      <td>nonexistent</td>\n",
       "      <td>-1.8</td>\n",
       "      <td>92.893</td>\n",
       "      <td>-46.2</td>\n",
       "      <td>1.266</td>\n",
       "      <td>5099.1</td>\n",
       "      <td>no</td>\n",
       "    </tr>\n",
       "    <tr>\n",
       "      <th>10052</th>\n",
       "      <td>46</td>\n",
       "      <td>blue-collar</td>\n",
       "      <td>married</td>\n",
       "      <td>professional.course</td>\n",
       "      <td>unknown</td>\n",
       "      <td>no</td>\n",
       "      <td>no</td>\n",
       "      <td>telephone</td>\n",
       "      <td>jun</td>\n",
       "      <td>thu</td>\n",
       "      <td>...</td>\n",
       "      <td>1</td>\n",
       "      <td>999</td>\n",
       "      <td>0</td>\n",
       "      <td>nonexistent</td>\n",
       "      <td>1.4</td>\n",
       "      <td>94.465</td>\n",
       "      <td>-41.8</td>\n",
       "      <td>4.958</td>\n",
       "      <td>5228.1</td>\n",
       "      <td>no</td>\n",
       "    </tr>\n",
       "    <tr>\n",
       "      <th>23030</th>\n",
       "      <td>40</td>\n",
       "      <td>technician</td>\n",
       "      <td>divorced</td>\n",
       "      <td>professional.course</td>\n",
       "      <td>no</td>\n",
       "      <td>yes</td>\n",
       "      <td>no</td>\n",
       "      <td>cellular</td>\n",
       "      <td>aug</td>\n",
       "      <td>tue</td>\n",
       "      <td>...</td>\n",
       "      <td>8</td>\n",
       "      <td>999</td>\n",
       "      <td>0</td>\n",
       "      <td>nonexistent</td>\n",
       "      <td>1.4</td>\n",
       "      <td>93.444</td>\n",
       "      <td>-36.1</td>\n",
       "      <td>4.965</td>\n",
       "      <td>5228.1</td>\n",
       "      <td>no</td>\n",
       "    </tr>\n",
       "    <tr>\n",
       "      <th>8856</th>\n",
       "      <td>37</td>\n",
       "      <td>services</td>\n",
       "      <td>married</td>\n",
       "      <td>high.school</td>\n",
       "      <td>unknown</td>\n",
       "      <td>no</td>\n",
       "      <td>no</td>\n",
       "      <td>telephone</td>\n",
       "      <td>jun</td>\n",
       "      <td>thu</td>\n",
       "      <td>...</td>\n",
       "      <td>2</td>\n",
       "      <td>999</td>\n",
       "      <td>0</td>\n",
       "      <td>nonexistent</td>\n",
       "      <td>1.4</td>\n",
       "      <td>94.465</td>\n",
       "      <td>-41.8</td>\n",
       "      <td>4.866</td>\n",
       "      <td>5228.1</td>\n",
       "      <td>no</td>\n",
       "    </tr>\n",
       "    <tr>\n",
       "      <th>29749</th>\n",
       "      <td>32</td>\n",
       "      <td>admin.</td>\n",
       "      <td>single</td>\n",
       "      <td>university.degree</td>\n",
       "      <td>no</td>\n",
       "      <td>yes</td>\n",
       "      <td>no</td>\n",
       "      <td>cellular</td>\n",
       "      <td>apr</td>\n",
       "      <td>mon</td>\n",
       "      <td>...</td>\n",
       "      <td>2</td>\n",
       "      <td>999</td>\n",
       "      <td>0</td>\n",
       "      <td>nonexistent</td>\n",
       "      <td>-1.8</td>\n",
       "      <td>93.075</td>\n",
       "      <td>-47.1</td>\n",
       "      <td>1.405</td>\n",
       "      <td>5099.1</td>\n",
       "      <td>no</td>\n",
       "    </tr>\n",
       "  </tbody>\n",
       "</table>\n",
       "<p>5 rows × 21 columns</p>\n",
       "</div>"
      ],
      "text/plain": [
       "       age          job   marital            education  default housing loan  \\\n",
       "34752   48     services    single             basic.4y  unknown     yes  yes   \n",
       "10052   46  blue-collar   married  professional.course  unknown      no   no   \n",
       "23030   40   technician  divorced  professional.course       no     yes   no   \n",
       "8856    37     services   married          high.school  unknown      no   no   \n",
       "29749   32       admin.    single    university.degree       no     yes   no   \n",
       "\n",
       "         contact month day_of_week  ...  campaign  pdays  previous  \\\n",
       "34752   cellular   may         thu  ...         2    999         0   \n",
       "10052  telephone   jun         thu  ...         1    999         0   \n",
       "23030   cellular   aug         tue  ...         8    999         0   \n",
       "8856   telephone   jun         thu  ...         2    999         0   \n",
       "29749   cellular   apr         mon  ...         2    999         0   \n",
       "\n",
       "          poutcome emp.var.rate  cons.price.idx  cons.conf.idx  euribor3m  \\\n",
       "34752  nonexistent         -1.8          92.893          -46.2      1.266   \n",
       "10052  nonexistent          1.4          94.465          -41.8      4.958   \n",
       "23030  nonexistent          1.4          93.444          -36.1      4.965   \n",
       "8856   nonexistent          1.4          94.465          -41.8      4.866   \n",
       "29749  nonexistent         -1.8          93.075          -47.1      1.405   \n",
       "\n",
       "       nr.employed   y  \n",
       "34752       5099.1  no  \n",
       "10052       5228.1  no  \n",
       "23030       5228.1  no  \n",
       "8856        5228.1  no  \n",
       "29749       5099.1  no  \n",
       "\n",
       "[5 rows x 21 columns]"
      ]
     },
     "execution_count": 5,
     "metadata": {},
     "output_type": "execute_result"
    }
   ],
   "source": [
    "df.sample(5)"
   ]
  },
  {
   "cell_type": "code",
   "execution_count": 6,
   "id": "a6ae7785",
   "metadata": {
    "execution": {
     "iopub.execute_input": "2024-11-04T16:27:01.258576Z",
     "iopub.status.busy": "2024-11-04T16:27:01.258138Z",
     "iopub.status.idle": "2024-11-04T16:27:01.306037Z",
     "shell.execute_reply": "2024-11-04T16:27:01.304331Z"
    },
    "papermill": {
     "duration": 0.063161,
     "end_time": "2024-11-04T16:27:01.309070",
     "exception": false,
     "start_time": "2024-11-04T16:27:01.245909",
     "status": "completed"
    },
    "tags": []
   },
   "outputs": [
    {
     "name": "stdout",
     "output_type": "stream",
     "text": [
      "<class 'pandas.core.frame.DataFrame'>\n",
      "RangeIndex: 41188 entries, 0 to 41187\n",
      "Data columns (total 21 columns):\n",
      " #   Column          Non-Null Count  Dtype  \n",
      "---  ------          --------------  -----  \n",
      " 0   age             41188 non-null  int64  \n",
      " 1   job             41188 non-null  object \n",
      " 2   marital         41188 non-null  object \n",
      " 3   education       41188 non-null  object \n",
      " 4   default         41188 non-null  object \n",
      " 5   housing         41188 non-null  object \n",
      " 6   loan            41188 non-null  object \n",
      " 7   contact         41188 non-null  object \n",
      " 8   month           41188 non-null  object \n",
      " 9   day_of_week     41188 non-null  object \n",
      " 10  duration        41188 non-null  int64  \n",
      " 11  campaign        41188 non-null  int64  \n",
      " 12  pdays           41188 non-null  int64  \n",
      " 13  previous        41188 non-null  int64  \n",
      " 14  poutcome        41188 non-null  object \n",
      " 15  emp.var.rate    41188 non-null  float64\n",
      " 16  cons.price.idx  41188 non-null  float64\n",
      " 17  cons.conf.idx   41188 non-null  float64\n",
      " 18  euribor3m       41188 non-null  float64\n",
      " 19  nr.employed     41188 non-null  float64\n",
      " 20  y               41188 non-null  object \n",
      "dtypes: float64(5), int64(5), object(11)\n",
      "memory usage: 6.6+ MB\n"
     ]
    }
   ],
   "source": [
    "df.info()"
   ]
  },
  {
   "cell_type": "code",
   "execution_count": 7,
   "id": "00237a49",
   "metadata": {
    "execution": {
     "iopub.execute_input": "2024-11-04T16:27:01.333640Z",
     "iopub.status.busy": "2024-11-04T16:27:01.332471Z",
     "iopub.status.idle": "2024-11-04T16:27:01.365009Z",
     "shell.execute_reply": "2024-11-04T16:27:01.363785Z"
    },
    "papermill": {
     "duration": 0.047457,
     "end_time": "2024-11-04T16:27:01.367677",
     "exception": false,
     "start_time": "2024-11-04T16:27:01.320220",
     "status": "completed"
    },
    "tags": []
   },
   "outputs": [
    {
     "data": {
      "text/plain": [
       "age               0\n",
       "job               0\n",
       "marital           0\n",
       "education         0\n",
       "default           0\n",
       "housing           0\n",
       "loan              0\n",
       "contact           0\n",
       "month             0\n",
       "day_of_week       0\n",
       "duration          0\n",
       "campaign          0\n",
       "pdays             0\n",
       "previous          0\n",
       "poutcome          0\n",
       "emp.var.rate      0\n",
       "cons.price.idx    0\n",
       "cons.conf.idx     0\n",
       "euribor3m         0\n",
       "nr.employed       0\n",
       "y                 0\n",
       "dtype: int64"
      ]
     },
     "execution_count": 7,
     "metadata": {},
     "output_type": "execute_result"
    }
   ],
   "source": [
    "df.isna().sum()"
   ]
  },
  {
   "cell_type": "code",
   "execution_count": 8,
   "id": "7830f8aa",
   "metadata": {
    "execution": {
     "iopub.execute_input": "2024-11-04T16:27:01.392235Z",
     "iopub.status.busy": "2024-11-04T16:27:01.391798Z",
     "iopub.status.idle": "2024-11-04T16:27:01.451955Z",
     "shell.execute_reply": "2024-11-04T16:27:01.450606Z"
    },
    "papermill": {
     "duration": 0.075739,
     "end_time": "2024-11-04T16:27:01.454646",
     "exception": false,
     "start_time": "2024-11-04T16:27:01.378907",
     "status": "completed"
    },
    "tags": []
   },
   "outputs": [
    {
     "data": {
      "text/plain": [
       "12"
      ]
     },
     "execution_count": 8,
     "metadata": {},
     "output_type": "execute_result"
    }
   ],
   "source": [
    "df.duplicated().sum()"
   ]
  },
  {
   "cell_type": "code",
   "execution_count": 9,
   "id": "2436bf83",
   "metadata": {
    "execution": {
     "iopub.execute_input": "2024-11-04T16:27:01.479691Z",
     "iopub.status.busy": "2024-11-04T16:27:01.479248Z",
     "iopub.status.idle": "2024-11-04T16:27:01.543937Z",
     "shell.execute_reply": "2024-11-04T16:27:01.542622Z"
    },
    "papermill": {
     "duration": 0.08073,
     "end_time": "2024-11-04T16:27:01.546800",
     "exception": false,
     "start_time": "2024-11-04T16:27:01.466070",
     "status": "completed"
    },
    "tags": []
   },
   "outputs": [],
   "source": [
    "df.drop_duplicates(keep = 'first', inplace=True)"
   ]
  },
  {
   "cell_type": "code",
   "execution_count": 10,
   "id": "2571c859",
   "metadata": {
    "execution": {
     "iopub.execute_input": "2024-11-04T16:27:01.571319Z",
     "iopub.status.busy": "2024-11-04T16:27:01.570690Z",
     "iopub.status.idle": "2024-11-04T16:27:01.632510Z",
     "shell.execute_reply": "2024-11-04T16:27:01.631012Z"
    },
    "papermill": {
     "duration": 0.077385,
     "end_time": "2024-11-04T16:27:01.635417",
     "exception": false,
     "start_time": "2024-11-04T16:27:01.558032",
     "status": "completed"
    },
    "tags": []
   },
   "outputs": [
    {
     "data": {
      "text/plain": [
       "0"
      ]
     },
     "execution_count": 10,
     "metadata": {},
     "output_type": "execute_result"
    }
   ],
   "source": [
    "df.duplicated().sum()"
   ]
  },
  {
   "cell_type": "code",
   "execution_count": 11,
   "id": "9c65d284",
   "metadata": {
    "execution": {
     "iopub.execute_input": "2024-11-04T16:27:01.664632Z",
     "iopub.status.busy": "2024-11-04T16:27:01.663396Z",
     "iopub.status.idle": "2024-11-04T16:27:01.673105Z",
     "shell.execute_reply": "2024-11-04T16:27:01.671602Z"
    },
    "papermill": {
     "duration": 0.028219,
     "end_time": "2024-11-04T16:27:01.676280",
     "exception": false,
     "start_time": "2024-11-04T16:27:01.648061",
     "status": "completed"
    },
    "tags": []
   },
   "outputs": [
    {
     "data": {
      "text/plain": [
       "Index(['age', 'job', 'marital', 'education', 'default', 'housing', 'loan',\n",
       "       'contact', 'month', 'day_of_week', 'duration', 'campaign', 'pdays',\n",
       "       'previous', 'poutcome', 'emp_var_rate', 'cons_price_idx',\n",
       "       'cons_conf_idx', 'euribor3m', 'nr_employed', 'y'],\n",
       "      dtype='object')"
      ]
     },
     "execution_count": 11,
     "metadata": {},
     "output_type": "execute_result"
    }
   ],
   "source": [
    "df.columns = df.columns.str.replace(\".\", \"_\")\n",
    "df.columns"
   ]
  },
  {
   "cell_type": "code",
   "execution_count": 12,
   "id": "264b9fe0",
   "metadata": {
    "execution": {
     "iopub.execute_input": "2024-11-04T16:27:01.701479Z",
     "iopub.status.busy": "2024-11-04T16:27:01.701077Z",
     "iopub.status.idle": "2024-11-04T16:27:01.757286Z",
     "shell.execute_reply": "2024-11-04T16:27:01.755982Z"
    },
    "papermill": {
     "duration": 0.071521,
     "end_time": "2024-11-04T16:27:01.759852",
     "exception": false,
     "start_time": "2024-11-04T16:27:01.688331",
     "status": "completed"
    },
    "tags": []
   },
   "outputs": [
    {
     "data": {
      "text/html": [
       "<div>\n",
       "<style scoped>\n",
       "    .dataframe tbody tr th:only-of-type {\n",
       "        vertical-align: middle;\n",
       "    }\n",
       "\n",
       "    .dataframe tbody tr th {\n",
       "        vertical-align: top;\n",
       "    }\n",
       "\n",
       "    .dataframe thead th {\n",
       "        text-align: right;\n",
       "    }\n",
       "</style>\n",
       "<table border=\"1\" class=\"dataframe\">\n",
       "  <thead>\n",
       "    <tr style=\"text-align: right;\">\n",
       "      <th></th>\n",
       "      <th>age</th>\n",
       "      <th>duration</th>\n",
       "      <th>campaign</th>\n",
       "      <th>pdays</th>\n",
       "      <th>previous</th>\n",
       "      <th>emp_var_rate</th>\n",
       "      <th>cons_price_idx</th>\n",
       "      <th>cons_conf_idx</th>\n",
       "      <th>euribor3m</th>\n",
       "      <th>nr_employed</th>\n",
       "    </tr>\n",
       "  </thead>\n",
       "  <tbody>\n",
       "    <tr>\n",
       "      <th>count</th>\n",
       "      <td>41176.00000</td>\n",
       "      <td>41176.000000</td>\n",
       "      <td>41176.000000</td>\n",
       "      <td>41176.000000</td>\n",
       "      <td>41176.000000</td>\n",
       "      <td>41176.000000</td>\n",
       "      <td>41176.000000</td>\n",
       "      <td>41176.000000</td>\n",
       "      <td>41176.000000</td>\n",
       "      <td>41176.000000</td>\n",
       "    </tr>\n",
       "    <tr>\n",
       "      <th>mean</th>\n",
       "      <td>40.02380</td>\n",
       "      <td>258.315815</td>\n",
       "      <td>2.567879</td>\n",
       "      <td>962.464810</td>\n",
       "      <td>0.173013</td>\n",
       "      <td>0.081922</td>\n",
       "      <td>93.575720</td>\n",
       "      <td>-40.502863</td>\n",
       "      <td>3.621293</td>\n",
       "      <td>5167.034870</td>\n",
       "    </tr>\n",
       "    <tr>\n",
       "      <th>std</th>\n",
       "      <td>10.42068</td>\n",
       "      <td>259.305321</td>\n",
       "      <td>2.770318</td>\n",
       "      <td>186.937102</td>\n",
       "      <td>0.494964</td>\n",
       "      <td>1.570883</td>\n",
       "      <td>0.578839</td>\n",
       "      <td>4.627860</td>\n",
       "      <td>1.734437</td>\n",
       "      <td>72.251364</td>\n",
       "    </tr>\n",
       "    <tr>\n",
       "      <th>min</th>\n",
       "      <td>17.00000</td>\n",
       "      <td>0.000000</td>\n",
       "      <td>1.000000</td>\n",
       "      <td>0.000000</td>\n",
       "      <td>0.000000</td>\n",
       "      <td>-3.400000</td>\n",
       "      <td>92.201000</td>\n",
       "      <td>-50.800000</td>\n",
       "      <td>0.634000</td>\n",
       "      <td>4963.600000</td>\n",
       "    </tr>\n",
       "    <tr>\n",
       "      <th>25%</th>\n",
       "      <td>32.00000</td>\n",
       "      <td>102.000000</td>\n",
       "      <td>1.000000</td>\n",
       "      <td>999.000000</td>\n",
       "      <td>0.000000</td>\n",
       "      <td>-1.800000</td>\n",
       "      <td>93.075000</td>\n",
       "      <td>-42.700000</td>\n",
       "      <td>1.344000</td>\n",
       "      <td>5099.100000</td>\n",
       "    </tr>\n",
       "    <tr>\n",
       "      <th>50%</th>\n",
       "      <td>38.00000</td>\n",
       "      <td>180.000000</td>\n",
       "      <td>2.000000</td>\n",
       "      <td>999.000000</td>\n",
       "      <td>0.000000</td>\n",
       "      <td>1.100000</td>\n",
       "      <td>93.749000</td>\n",
       "      <td>-41.800000</td>\n",
       "      <td>4.857000</td>\n",
       "      <td>5191.000000</td>\n",
       "    </tr>\n",
       "    <tr>\n",
       "      <th>75%</th>\n",
       "      <td>47.00000</td>\n",
       "      <td>319.000000</td>\n",
       "      <td>3.000000</td>\n",
       "      <td>999.000000</td>\n",
       "      <td>0.000000</td>\n",
       "      <td>1.400000</td>\n",
       "      <td>93.994000</td>\n",
       "      <td>-36.400000</td>\n",
       "      <td>4.961000</td>\n",
       "      <td>5228.100000</td>\n",
       "    </tr>\n",
       "    <tr>\n",
       "      <th>max</th>\n",
       "      <td>98.00000</td>\n",
       "      <td>4918.000000</td>\n",
       "      <td>56.000000</td>\n",
       "      <td>999.000000</td>\n",
       "      <td>7.000000</td>\n",
       "      <td>1.400000</td>\n",
       "      <td>94.767000</td>\n",
       "      <td>-26.900000</td>\n",
       "      <td>5.045000</td>\n",
       "      <td>5228.100000</td>\n",
       "    </tr>\n",
       "  </tbody>\n",
       "</table>\n",
       "</div>"
      ],
      "text/plain": [
       "               age      duration      campaign         pdays      previous  \\\n",
       "count  41176.00000  41176.000000  41176.000000  41176.000000  41176.000000   \n",
       "mean      40.02380    258.315815      2.567879    962.464810      0.173013   \n",
       "std       10.42068    259.305321      2.770318    186.937102      0.494964   \n",
       "min       17.00000      0.000000      1.000000      0.000000      0.000000   \n",
       "25%       32.00000    102.000000      1.000000    999.000000      0.000000   \n",
       "50%       38.00000    180.000000      2.000000    999.000000      0.000000   \n",
       "75%       47.00000    319.000000      3.000000    999.000000      0.000000   \n",
       "max       98.00000   4918.000000     56.000000    999.000000      7.000000   \n",
       "\n",
       "       emp_var_rate  cons_price_idx  cons_conf_idx     euribor3m   nr_employed  \n",
       "count  41176.000000    41176.000000   41176.000000  41176.000000  41176.000000  \n",
       "mean       0.081922       93.575720     -40.502863      3.621293   5167.034870  \n",
       "std        1.570883        0.578839       4.627860      1.734437     72.251364  \n",
       "min       -3.400000       92.201000     -50.800000      0.634000   4963.600000  \n",
       "25%       -1.800000       93.075000     -42.700000      1.344000   5099.100000  \n",
       "50%        1.100000       93.749000     -41.800000      4.857000   5191.000000  \n",
       "75%        1.400000       93.994000     -36.400000      4.961000   5228.100000  \n",
       "max        1.400000       94.767000     -26.900000      5.045000   5228.100000  "
      ]
     },
     "execution_count": 12,
     "metadata": {},
     "output_type": "execute_result"
    }
   ],
   "source": [
    "df.describe()"
   ]
  },
  {
   "cell_type": "code",
   "execution_count": 13,
   "id": "0f3b89aa",
   "metadata": {
    "execution": {
     "iopub.execute_input": "2024-11-04T16:27:01.785753Z",
     "iopub.status.busy": "2024-11-04T16:27:01.785304Z",
     "iopub.status.idle": "2024-11-04T16:27:01.867192Z",
     "shell.execute_reply": "2024-11-04T16:27:01.865921Z"
    },
    "papermill": {
     "duration": 0.097573,
     "end_time": "2024-11-04T16:27:01.869751",
     "exception": false,
     "start_time": "2024-11-04T16:27:01.772178",
     "status": "completed"
    },
    "tags": []
   },
   "outputs": [
    {
     "data": {
      "text/html": [
       "<div>\n",
       "<style scoped>\n",
       "    .dataframe tbody tr th:only-of-type {\n",
       "        vertical-align: middle;\n",
       "    }\n",
       "\n",
       "    .dataframe tbody tr th {\n",
       "        vertical-align: top;\n",
       "    }\n",
       "\n",
       "    .dataframe thead th {\n",
       "        text-align: right;\n",
       "    }\n",
       "</style>\n",
       "<table border=\"1\" class=\"dataframe\">\n",
       "  <thead>\n",
       "    <tr style=\"text-align: right;\">\n",
       "      <th></th>\n",
       "      <th>count</th>\n",
       "      <th>unique</th>\n",
       "      <th>top</th>\n",
       "      <th>freq</th>\n",
       "    </tr>\n",
       "  </thead>\n",
       "  <tbody>\n",
       "    <tr>\n",
       "      <th>job</th>\n",
       "      <td>41176</td>\n",
       "      <td>12</td>\n",
       "      <td>admin.</td>\n",
       "      <td>10419</td>\n",
       "    </tr>\n",
       "    <tr>\n",
       "      <th>marital</th>\n",
       "      <td>41176</td>\n",
       "      <td>4</td>\n",
       "      <td>married</td>\n",
       "      <td>24921</td>\n",
       "    </tr>\n",
       "    <tr>\n",
       "      <th>education</th>\n",
       "      <td>41176</td>\n",
       "      <td>8</td>\n",
       "      <td>university.degree</td>\n",
       "      <td>12164</td>\n",
       "    </tr>\n",
       "    <tr>\n",
       "      <th>default</th>\n",
       "      <td>41176</td>\n",
       "      <td>3</td>\n",
       "      <td>no</td>\n",
       "      <td>32577</td>\n",
       "    </tr>\n",
       "    <tr>\n",
       "      <th>housing</th>\n",
       "      <td>41176</td>\n",
       "      <td>3</td>\n",
       "      <td>yes</td>\n",
       "      <td>21571</td>\n",
       "    </tr>\n",
       "    <tr>\n",
       "      <th>loan</th>\n",
       "      <td>41176</td>\n",
       "      <td>3</td>\n",
       "      <td>no</td>\n",
       "      <td>33938</td>\n",
       "    </tr>\n",
       "    <tr>\n",
       "      <th>contact</th>\n",
       "      <td>41176</td>\n",
       "      <td>2</td>\n",
       "      <td>cellular</td>\n",
       "      <td>26135</td>\n",
       "    </tr>\n",
       "    <tr>\n",
       "      <th>month</th>\n",
       "      <td>41176</td>\n",
       "      <td>10</td>\n",
       "      <td>may</td>\n",
       "      <td>13767</td>\n",
       "    </tr>\n",
       "    <tr>\n",
       "      <th>day_of_week</th>\n",
       "      <td>41176</td>\n",
       "      <td>5</td>\n",
       "      <td>thu</td>\n",
       "      <td>8618</td>\n",
       "    </tr>\n",
       "    <tr>\n",
       "      <th>poutcome</th>\n",
       "      <td>41176</td>\n",
       "      <td>3</td>\n",
       "      <td>nonexistent</td>\n",
       "      <td>35551</td>\n",
       "    </tr>\n",
       "    <tr>\n",
       "      <th>y</th>\n",
       "      <td>41176</td>\n",
       "      <td>2</td>\n",
       "      <td>no</td>\n",
       "      <td>36537</td>\n",
       "    </tr>\n",
       "  </tbody>\n",
       "</table>\n",
       "</div>"
      ],
      "text/plain": [
       "             count unique                top   freq\n",
       "job          41176     12             admin.  10419\n",
       "marital      41176      4            married  24921\n",
       "education    41176      8  university.degree  12164\n",
       "default      41176      3                 no  32577\n",
       "housing      41176      3                yes  21571\n",
       "loan         41176      3                 no  33938\n",
       "contact      41176      2           cellular  26135\n",
       "month        41176     10                may  13767\n",
       "day_of_week  41176      5                thu   8618\n",
       "poutcome     41176      3        nonexistent  35551\n",
       "y            41176      2                 no  36537"
      ]
     },
     "execution_count": 13,
     "metadata": {},
     "output_type": "execute_result"
    }
   ],
   "source": [
    "df.describe(include= \"O\").T\n"
   ]
  },
  {
   "cell_type": "code",
   "execution_count": 14,
   "id": "30f10652",
   "metadata": {
    "execution": {
     "iopub.execute_input": "2024-11-04T16:27:01.897038Z",
     "iopub.status.busy": "2024-11-04T16:27:01.896608Z",
     "iopub.status.idle": "2024-11-04T16:27:01.902006Z",
     "shell.execute_reply": "2024-11-04T16:27:01.900928Z"
    },
    "papermill": {
     "duration": 0.021696,
     "end_time": "2024-11-04T16:27:01.904372",
     "exception": false,
     "start_time": "2024-11-04T16:27:01.882676",
     "status": "completed"
    },
    "tags": []
   },
   "outputs": [],
   "source": [
    "def is_contacted_before(x):\n",
    "    if x == 999:\n",
    "        return 0\n",
    "    else:\n",
    "        return 1"
   ]
  },
  {
   "cell_type": "code",
   "execution_count": 15,
   "id": "56f1cf9c",
   "metadata": {
    "execution": {
     "iopub.execute_input": "2024-11-04T16:27:01.930675Z",
     "iopub.status.busy": "2024-11-04T16:27:01.930242Z",
     "iopub.status.idle": "2024-11-04T16:27:01.956206Z",
     "shell.execute_reply": "2024-11-04T16:27:01.954805Z"
    },
    "papermill": {
     "duration": 0.04267,
     "end_time": "2024-11-04T16:27:01.959061",
     "exception": false,
     "start_time": "2024-11-04T16:27:01.916391",
     "status": "completed"
    },
    "tags": []
   },
   "outputs": [],
   "source": [
    "df['contacted_before'] = df['pdays'].apply(is_contacted_before)"
   ]
  },
  {
   "cell_type": "code",
   "execution_count": 16,
   "id": "80507c6e",
   "metadata": {
    "execution": {
     "iopub.execute_input": "2024-11-04T16:27:01.985069Z",
     "iopub.status.busy": "2024-11-04T16:27:01.984643Z",
     "iopub.status.idle": "2024-11-04T16:27:01.998654Z",
     "shell.execute_reply": "2024-11-04T16:27:01.997215Z"
    },
    "papermill": {
     "duration": 0.030472,
     "end_time": "2024-11-04T16:27:02.001647",
     "exception": false,
     "start_time": "2024-11-04T16:27:01.971175",
     "status": "completed"
    },
    "tags": []
   },
   "outputs": [],
   "source": [
    "df.drop('pdays', axis=1, inplace=True)\n"
   ]
  },
  {
   "cell_type": "code",
   "execution_count": 17,
   "id": "b458c51b",
   "metadata": {
    "execution": {
     "iopub.execute_input": "2024-11-04T16:27:02.027447Z",
     "iopub.status.busy": "2024-11-04T16:27:02.027017Z",
     "iopub.status.idle": "2024-11-04T16:27:02.034031Z",
     "shell.execute_reply": "2024-11-04T16:27:02.032614Z"
    },
    "papermill": {
     "duration": 0.02304,
     "end_time": "2024-11-04T16:27:02.036821",
     "exception": false,
     "start_time": "2024-11-04T16:27:02.013781",
     "status": "completed"
    },
    "tags": []
   },
   "outputs": [],
   "source": [
    "def plot_bar(column):\n",
    "    # temp df \n",
    "    temp_1 = pd.DataFrame()\n",
    "    # count categorical values\n",
    "    temp_1['No_deposit'] = df[df['y'] == 'no'][column].value_counts()\n",
    "    temp_1['Yes_deposit'] = df[df['y'] == 'yes'][column].value_counts()\n",
    "    temp_1.plot(kind='bar')\n",
    "    plt.xlabel(f'{column}')\n",
    "    plt.ylabel('Number of clients')\n",
    "    plt.title('Distribution of {} and deposit'.format(column))\n",
    "    plt.show()\n"
   ]
  },
  {
   "cell_type": "code",
   "execution_count": 18,
   "id": "49d9e2ab",
   "metadata": {
    "execution": {
     "iopub.execute_input": "2024-11-04T16:27:02.063072Z",
     "iopub.status.busy": "2024-11-04T16:27:02.062631Z",
     "iopub.status.idle": "2024-11-04T16:27:04.079971Z",
     "shell.execute_reply": "2024-11-04T16:27:04.078562Z"
    },
    "papermill": {
     "duration": 2.033745,
     "end_time": "2024-11-04T16:27:04.082493",
     "exception": false,
     "start_time": "2024-11-04T16:27:02.048748",
     "status": "completed"
    },
    "tags": []
   },
   "outputs": [
    {
     "data": {
      "image/png": "[encoded data removed]",
      "text/plain": [
       "<Figure size 640x480 with 1 Axes>"
      ]
     },
     "metadata": {},
     "output_type": "display_data"
    },
    {
     "data": {
      "image/png": "[encoded data removed]",
      "text/plain": [
       "<Figure size 640x480 with 1 Axes>"
      ]
     },
     "metadata": {},
     "output_type": "display_data"
    },
    {
     "data": {
      "image/png": "[encoded data removed]",
      "text/plain": [
       "<Figure size 640x480 with 1 Axes>"
      ]
     },
     "metadata": {},
     "output_type": "display_data"
    },
    {
     "data": {
      "image/png": "[encoded data removed]",
      "text/plain": [
       "<Figure size 640x480 with 1 Axes>"
      ]
     },
     "metadata": {},
     "output_type": "display_data"
    },
    {
     "data": {
      "image/png": "[encoded data removed]",
      "text/plain": [
       "<Figure size 640x480 with 1 Axes>"
      ]
     },
     "metadata": {},
     "output_type": "display_data"
    },
    {
     "data": {
      "image/png": "[encoded data removed]",
      "text/plain": [
       "<Figure size 640x480 with 1 Axes>"
      ]
     },
     "metadata": {},
     "output_type": "display_data"
    },
    {
     "data": {
      "text/plain": [
       "(None, None, None, None, None, None)"
      ]
     },
     "execution_count": 18,
     "metadata": {},
     "output_type": "execute_result"
    }
   ],
   "source": [
    "plot_bar('job'), plot_bar('marital'), plot_bar('education'), plot_bar('contact'), plot_bar('loan'), plot_bar('housing')"
   ]
  },
  {
   "cell_type": "code",
   "execution_count": 19,
   "id": "ad500d9d",
   "metadata": {
    "execution": {
     "iopub.execute_input": "2024-11-04T16:27:04.115691Z",
     "iopub.status.busy": "2024-11-04T16:27:04.115234Z",
     "iopub.status.idle": "2024-11-04T16:27:04.833967Z",
     "shell.execute_reply": "2024-11-04T16:27:04.832632Z"
    },
    "papermill": {
     "duration": 0.738194,
     "end_time": "2024-11-04T16:27:04.836460",
     "exception": false,
     "start_time": "2024-11-04T16:27:04.098266",
     "status": "completed"
    },
    "tags": []
   },
   "outputs": [
    {
     "data": {
      "text/plain": [
       "<Axes: >"
      ]
     },
     "execution_count": 19,
     "metadata": {},
     "output_type": "execute_result"
    },
    {
     "data": {
      "image/png": "[encoded data removed]",
      "text/plain": [
       "<Figure size 640x480 with 1 Axes>"
      ]
     },
     "metadata": {},
     "output_type": "display_data"
    }
   ],
   "source": [
    "df.boxplot( rot=45)"
   ]
  },
  {
   "cell_type": "code",
   "execution_count": 20,
   "id": "3e096f89",
   "metadata": {
    "execution": {
     "iopub.execute_input": "2024-11-04T16:27:04.871143Z",
     "iopub.status.busy": "2024-11-04T16:27:04.870670Z",
     "iopub.status.idle": "2024-11-04T16:27:04.879294Z",
     "shell.execute_reply": "2024-11-04T16:27:04.878044Z"
    },
    "papermill": {
     "duration": 0.028979,
     "end_time": "2024-11-04T16:27:04.881823",
     "exception": false,
     "start_time": "2024-11-04T16:27:04.852844",
     "status": "completed"
    },
    "tags": []
   },
   "outputs": [],
   "source": [
    "numbers = df.select_dtypes(['int64', 'float64']).columns.to_list()"
   ]
  },
  {
   "cell_type": "code",
   "execution_count": 21,
   "id": "efa1d81f",
   "metadata": {
    "execution": {
     "iopub.execute_input": "2024-11-04T16:27:04.918135Z",
     "iopub.status.busy": "2024-11-04T16:27:04.917670Z",
     "iopub.status.idle": "2024-11-04T16:27:04.925505Z",
     "shell.execute_reply": "2024-11-04T16:27:04.924084Z"
    },
    "papermill": {
     "duration": 0.029582,
     "end_time": "2024-11-04T16:27:04.927997",
     "exception": false,
     "start_time": "2024-11-04T16:27:04.898415",
     "status": "completed"
    },
    "tags": []
   },
   "outputs": [
    {
     "data": {
      "text/plain": [
       "['age',\n",
       " 'duration',\n",
       " 'campaign',\n",
       " 'previous',\n",
       " 'emp_var_rate',\n",
       " 'cons_price_idx',\n",
       " 'cons_conf_idx',\n",
       " 'euribor3m',\n",
       " 'nr_employed',\n",
       " 'contacted_before']"
      ]
     },
     "execution_count": 21,
     "metadata": {},
     "output_type": "execute_result"
    }
   ],
   "source": [
    "numbers"
   ]
  },
  {
   "cell_type": "code",
   "execution_count": 22,
   "id": "98928c36",
   "metadata": {
    "execution": {
     "iopub.execute_input": "2024-11-04T16:27:04.966123Z",
     "iopub.status.busy": "2024-11-04T16:27:04.965673Z",
     "iopub.status.idle": "2024-11-04T16:27:05.389180Z",
     "shell.execute_reply": "2024-11-04T16:27:05.387838Z"
    },
    "papermill": {
     "duration": 0.445419,
     "end_time": "2024-11-04T16:27:05.391882",
     "exception": false,
     "start_time": "2024-11-04T16:27:04.946463",
     "status": "completed"
    },
    "tags": []
   },
   "outputs": [
    {
     "data": {
      "text/plain": [
       "<Axes: >"
      ]
     },
     "execution_count": 22,
     "metadata": {},
     "output_type": "execute_result"
    },
    {
     "data": {
      "image/png": "[encoded data removed]",
      "text/plain": [
       "<Figure size 640x480 with 1 Axes>"
      ]
     },
     "metadata": {},
     "output_type": "display_data"
    }
   ],
   "source": [
    "df[['age',\n",
    " 'campaign',\n",
    " 'previous',\n",
    " 'contacted_before']].boxplot(rot=45)"
   ]
  },
  {
   "cell_type": "code",
   "execution_count": 23,
   "id": "5f06e3e7",
   "metadata": {
    "execution": {
     "iopub.execute_input": "2024-11-04T16:27:05.430709Z",
     "iopub.status.busy": "2024-11-04T16:27:05.430276Z",
     "iopub.status.idle": "2024-11-04T16:27:05.474558Z",
     "shell.execute_reply": "2024-11-04T16:27:05.473232Z"
    },
    "papermill": {
     "duration": 0.068195,
     "end_time": "2024-11-04T16:27:05.477580",
     "exception": false,
     "start_time": "2024-11-04T16:27:05.409385",
     "status": "completed"
    },
    "tags": []
   },
   "outputs": [],
   "source": [
    "for cols in ['age', 'duration', 'campaign']:\n",
    "    Q1 = df[cols].quantile(0.25)\n",
    "    Q3 = df[cols].quantile(0.75)\n",
    "    IQR = Q3 - Q1     \n",
    "\n",
    "    filter = (df[cols] >= Q1 - 1.5 * IQR) & (df[cols] <= Q3 + 1.5 *IQR)\n",
    "    df=df.loc[filter]"
   ]
  },
  {
   "cell_type": "code",
   "execution_count": 24,
   "id": "68e76d87",
   "metadata": {
    "execution": {
     "iopub.execute_input": "2024-11-04T16:27:05.518055Z",
     "iopub.status.busy": "2024-11-04T16:27:05.517615Z",
     "iopub.status.idle": "2024-11-04T16:27:05.865717Z",
     "shell.execute_reply": "2024-11-04T16:27:05.864160Z"
    },
    "papermill": {
     "duration": 0.373638,
     "end_time": "2024-11-04T16:27:05.868781",
     "exception": false,
     "start_time": "2024-11-04T16:27:05.495143",
     "status": "completed"
    },
    "tags": []
   },
   "outputs": [
    {
     "data": {
      "text/plain": [
       "<Axes: >"
      ]
     },
     "execution_count": 24,
     "metadata": {},
     "output_type": "execute_result"
    },
    {
     "data": {
      "image/png": "[encoded data removed]",
      "text/plain": [
       "<Figure size 640x480 with 1 Axes>"
      ]
     },
     "metadata": {},
     "output_type": "display_data"
    }
   ],
   "source": [
    "df[['age',\n",
    " 'campaign',\n",
    " 'duration']].boxplot(rot=45)"
   ]
  },
  {
   "cell_type": "code",
   "execution_count": 25,
   "id": "6279f0f5",
   "metadata": {
    "execution": {
     "iopub.execute_input": "2024-11-04T16:27:05.907476Z",
     "iopub.status.busy": "2024-11-04T16:27:05.907055Z",
     "iopub.status.idle": "2024-11-04T16:27:05.963226Z",
     "shell.execute_reply": "2024-11-04T16:27:05.961451Z"
    },
    "papermill": {
     "duration": 0.079771,
     "end_time": "2024-11-04T16:27:05.966632",
     "exception": false,
     "start_time": "2024-11-04T16:27:05.886861",
     "status": "completed"
    },
    "tags": []
   },
   "outputs": [
    {
     "data": {
      "text/html": [
       "<div>\n",
       "<style scoped>\n",
       "    .dataframe tbody tr th:only-of-type {\n",
       "        vertical-align: middle;\n",
       "    }\n",
       "\n",
       "    .dataframe tbody tr th {\n",
       "        vertical-align: top;\n",
       "    }\n",
       "\n",
       "    .dataframe thead th {\n",
       "        text-align: right;\n",
       "    }\n",
       "</style>\n",
       "<table border=\"1\" class=\"dataframe\">\n",
       "  <thead>\n",
       "    <tr style=\"text-align: right;\">\n",
       "      <th></th>\n",
       "      <th>age</th>\n",
       "      <th>duration</th>\n",
       "      <th>campaign</th>\n",
       "      <th>previous</th>\n",
       "      <th>emp_var_rate</th>\n",
       "      <th>cons_price_idx</th>\n",
       "      <th>cons_conf_idx</th>\n",
       "      <th>euribor3m</th>\n",
       "      <th>nr_employed</th>\n",
       "      <th>contacted_before</th>\n",
       "    </tr>\n",
       "  </thead>\n",
       "  <tbody>\n",
       "    <tr>\n",
       "      <th>count</th>\n",
       "      <td>35524.000000</td>\n",
       "      <td>35524.000000</td>\n",
       "      <td>35524.000000</td>\n",
       "      <td>35524.000000</td>\n",
       "      <td>35524.000000</td>\n",
       "      <td>35524.000000</td>\n",
       "      <td>35524.000000</td>\n",
       "      <td>35524.000000</td>\n",
       "      <td>35524.000000</td>\n",
       "      <td>35524.000000</td>\n",
       "    </tr>\n",
       "    <tr>\n",
       "      <th>mean</th>\n",
       "      <td>39.599961</td>\n",
       "      <td>206.812043</td>\n",
       "      <td>2.044195</td>\n",
       "      <td>0.175008</td>\n",
       "      <td>0.064948</td>\n",
       "      <td>93.566412</td>\n",
       "      <td>-40.523094</td>\n",
       "      <td>3.609190</td>\n",
       "      <td>5166.691245</td>\n",
       "      <td>0.035694</td>\n",
       "    </tr>\n",
       "    <tr>\n",
       "      <th>std</th>\n",
       "      <td>9.678592</td>\n",
       "      <td>140.082035</td>\n",
       "      <td>1.284235</td>\n",
       "      <td>0.493375</td>\n",
       "      <td>1.567057</td>\n",
       "      <td>0.577002</td>\n",
       "      <td>4.623744</td>\n",
       "      <td>1.731433</td>\n",
       "      <td>71.495359</td>\n",
       "      <td>0.185529</td>\n",
       "    </tr>\n",
       "    <tr>\n",
       "      <th>min</th>\n",
       "      <td>17.000000</td>\n",
       "      <td>0.000000</td>\n",
       "      <td>1.000000</td>\n",
       "      <td>0.000000</td>\n",
       "      <td>-3.400000</td>\n",
       "      <td>92.201000</td>\n",
       "      <td>-50.800000</td>\n",
       "      <td>0.634000</td>\n",
       "      <td>4963.600000</td>\n",
       "      <td>0.000000</td>\n",
       "    </tr>\n",
       "    <tr>\n",
       "      <th>25%</th>\n",
       "      <td>32.000000</td>\n",
       "      <td>101.000000</td>\n",
       "      <td>1.000000</td>\n",
       "      <td>0.000000</td>\n",
       "      <td>-1.800000</td>\n",
       "      <td>93.075000</td>\n",
       "      <td>-42.700000</td>\n",
       "      <td>1.344000</td>\n",
       "      <td>5099.100000</td>\n",
       "      <td>0.000000</td>\n",
       "    </tr>\n",
       "    <tr>\n",
       "      <th>50%</th>\n",
       "      <td>38.000000</td>\n",
       "      <td>170.000000</td>\n",
       "      <td>2.000000</td>\n",
       "      <td>0.000000</td>\n",
       "      <td>1.100000</td>\n",
       "      <td>93.444000</td>\n",
       "      <td>-41.800000</td>\n",
       "      <td>4.857000</td>\n",
       "      <td>5191.000000</td>\n",
       "      <td>0.000000</td>\n",
       "    </tr>\n",
       "    <tr>\n",
       "      <th>75%</th>\n",
       "      <td>47.000000</td>\n",
       "      <td>281.000000</td>\n",
       "      <td>3.000000</td>\n",
       "      <td>0.000000</td>\n",
       "      <td>1.400000</td>\n",
       "      <td>93.994000</td>\n",
       "      <td>-36.400000</td>\n",
       "      <td>4.961000</td>\n",
       "      <td>5228.100000</td>\n",
       "      <td>0.000000</td>\n",
       "    </tr>\n",
       "    <tr>\n",
       "      <th>max</th>\n",
       "      <td>69.000000</td>\n",
       "      <td>644.000000</td>\n",
       "      <td>6.000000</td>\n",
       "      <td>7.000000</td>\n",
       "      <td>1.400000</td>\n",
       "      <td>94.767000</td>\n",
       "      <td>-26.900000</td>\n",
       "      <td>5.045000</td>\n",
       "      <td>5228.100000</td>\n",
       "      <td>1.000000</td>\n",
       "    </tr>\n",
       "  </tbody>\n",
       "</table>\n",
       "</div>"
      ],
      "text/plain": [
       "                age      duration      campaign      previous  emp_var_rate  \\\n",
       "count  35524.000000  35524.000000  35524.000000  35524.000000  35524.000000   \n",
       "mean      39.599961    206.812043      2.044195      0.175008      0.064948   \n",
       "std        9.678592    140.082035      1.284235      0.493375      1.567057   \n",
       "min       17.000000      0.000000      1.000000      0.000000     -3.400000   \n",
       "25%       32.000000    101.000000      1.000000      0.000000     -1.800000   \n",
       "50%       38.000000    170.000000      2.000000      0.000000      1.100000   \n",
       "75%       47.000000    281.000000      3.000000      0.000000      1.400000   \n",
       "max       69.000000    644.000000      6.000000      7.000000      1.400000   \n",
       "\n",
       "       cons_price_idx  cons_conf_idx     euribor3m   nr_employed  \\\n",
       "count    35524.000000   35524.000000  35524.000000  35524.000000   \n",
       "mean        93.566412     -40.523094      3.609190   5166.691245   \n",
       "std          0.577002       4.623744      1.731433     71.495359   \n",
       "min         92.201000     -50.800000      0.634000   4963.600000   \n",
       "25%         93.075000     -42.700000      1.344000   5099.100000   \n",
       "50%         93.444000     -41.800000      4.857000   5191.000000   \n",
       "75%         93.994000     -36.400000      4.961000   5228.100000   \n",
       "max         94.767000     -26.900000      5.045000   5228.100000   \n",
       "\n",
       "       contacted_before  \n",
       "count      35524.000000  \n",
       "mean           0.035694  \n",
       "std            0.185529  \n",
       "min            0.000000  \n",
       "25%            0.000000  \n",
       "50%            0.000000  \n",
       "75%            0.000000  \n",
       "max            1.000000  "
      ]
     },
     "execution_count": 25,
     "metadata": {},
     "output_type": "execute_result"
    }
   ],
   "source": [
    "df.describe()"
   ]
  },
  {
   "cell_type": "code",
   "execution_count": 26,
   "id": "78a72ded",
   "metadata": {
    "execution": {
     "iopub.execute_input": "2024-11-04T16:27:06.006932Z",
     "iopub.status.busy": "2024-11-04T16:27:06.006446Z",
     "iopub.status.idle": "2024-11-04T16:27:06.641065Z",
     "shell.execute_reply": "2024-11-04T16:27:06.639665Z"
    },
    "papermill": {
     "duration": 0.659207,
     "end_time": "2024-11-04T16:27:06.643596",
     "exception": false,
     "start_time": "2024-11-04T16:27:05.984389",
     "status": "completed"
    },
    "tags": []
   },
   "outputs": [
    {
     "data": {
      "image/png": "[encoded data removed]",
      "text/plain": [
       "<Figure size 1000x500 with 2 Axes>"
      ]
     },
     "metadata": {},
     "output_type": "display_data"
    }
   ],
   "source": [
    "f,ax=plt.subplots(figsize=(10,5))\n",
    "sns.heatmap(df[numbers].corr(),annot=True,fmt=\".1f\",ax=ax)\n",
    "plt.show()"
   ]
  },
  {
   "cell_type": "code",
   "execution_count": 27,
   "id": "bfd17843",
   "metadata": {
    "execution": {
     "iopub.execute_input": "2024-11-04T16:27:06.685133Z",
     "iopub.status.busy": "2024-11-04T16:27:06.684673Z",
     "iopub.status.idle": "2024-11-04T16:27:06.700206Z",
     "shell.execute_reply": "2024-11-04T16:27:06.699026Z"
    },
    "papermill": {
     "duration": 0.038694,
     "end_time": "2024-11-04T16:27:06.702622",
     "exception": false,
     "start_time": "2024-11-04T16:27:06.663928",
     "status": "completed"
    },
    "tags": []
   },
   "outputs": [
    {
     "data": {
      "text/plain": [
       "y\n",
       "0    32651\n",
       "1     2873\n",
       "Name: count, dtype: int64"
      ]
     },
     "execution_count": 27,
     "metadata": {},
     "output_type": "execute_result"
    }
   ],
   "source": [
    "df['y'] = (df.y == 'yes').astype('int')\n",
    "df[\"y\"].value_counts()"
   ]
  },
  {
   "cell_type": "code",
   "execution_count": 28,
   "id": "58ff9d37",
   "metadata": {
    "execution": {
     "iopub.execute_input": "2024-11-04T16:27:06.744234Z",
     "iopub.status.busy": "2024-11-04T16:27:06.743295Z",
     "iopub.status.idle": "2024-11-04T16:27:06.769953Z",
     "shell.execute_reply": "2024-11-04T16:27:06.768692Z"
    },
    "papermill": {
     "duration": 0.050579,
     "end_time": "2024-11-04T16:27:06.772343",
     "exception": false,
     "start_time": "2024-11-04T16:27:06.721764",
     "status": "completed"
    },
    "tags": []
   },
   "outputs": [
    {
     "data": {
      "text/plain": [
       "education\n",
       "middle.school          10678\n",
       "university.degree      10548\n",
       "high.school             8278\n",
       "professional.course     4548\n",
       "unknown                 1458\n",
       "illiterate                14\n",
       "Name: count, dtype: int64"
      ]
     },
     "execution_count": 28,
     "metadata": {},
     "output_type": "execute_result"
    }
   ],
   "source": [
    "ed=['basic.9y','basic.6y','basic.4y']\n",
    "for i in ed:\n",
    "    df.loc[df['education'] == i, 'education'] = \"middle.school\"\n",
    "\n",
    "df['education'].value_counts()"
   ]
  },
  {
   "cell_type": "code",
   "execution_count": 29,
   "id": "0f423e89",
   "metadata": {
    "execution": {
     "iopub.execute_input": "2024-11-04T16:27:06.814092Z",
     "iopub.status.busy": "2024-11-04T16:27:06.813392Z",
     "iopub.status.idle": "2024-11-04T16:27:06.839176Z",
     "shell.execute_reply": "2024-11-04T16:27:06.837927Z"
    },
    "papermill": {
     "duration": 0.049522,
     "end_time": "2024-11-04T16:27:06.841746",
     "exception": false,
     "start_time": "2024-11-04T16:27:06.792224",
     "status": "completed"
    },
    "tags": []
   },
   "outputs": [
    {
     "data": {
      "text/html": [
       "<div>\n",
       "<style scoped>\n",
       "    .dataframe tbody tr th:only-of-type {\n",
       "        vertical-align: middle;\n",
       "    }\n",
       "\n",
       "    .dataframe tbody tr th {\n",
       "        vertical-align: top;\n",
       "    }\n",
       "\n",
       "    .dataframe thead th {\n",
       "        text-align: right;\n",
       "    }\n",
       "</style>\n",
       "<table border=\"1\" class=\"dataframe\">\n",
       "  <thead>\n",
       "    <tr style=\"text-align: right;\">\n",
       "      <th></th>\n",
       "      <th>age</th>\n",
       "      <th>job</th>\n",
       "      <th>marital</th>\n",
       "      <th>education</th>\n",
       "      <th>default</th>\n",
       "      <th>housing</th>\n",
       "      <th>loan</th>\n",
       "      <th>contact</th>\n",
       "      <th>month</th>\n",
       "      <th>day_of_week</th>\n",
       "      <th>...</th>\n",
       "      <th>campaign</th>\n",
       "      <th>previous</th>\n",
       "      <th>poutcome</th>\n",
       "      <th>emp_var_rate</th>\n",
       "      <th>cons_price_idx</th>\n",
       "      <th>cons_conf_idx</th>\n",
       "      <th>euribor3m</th>\n",
       "      <th>nr_employed</th>\n",
       "      <th>y</th>\n",
       "      <th>contacted_before</th>\n",
       "    </tr>\n",
       "  </thead>\n",
       "  <tbody>\n",
       "    <tr>\n",
       "      <th>0</th>\n",
       "      <td>56</td>\n",
       "      <td>housemaid</td>\n",
       "      <td>married</td>\n",
       "      <td>middle.school</td>\n",
       "      <td>no</td>\n",
       "      <td>no</td>\n",
       "      <td>no</td>\n",
       "      <td>telephone</td>\n",
       "      <td>may</td>\n",
       "      <td>mon</td>\n",
       "      <td>...</td>\n",
       "      <td>1</td>\n",
       "      <td>0</td>\n",
       "      <td>nonexistent</td>\n",
       "      <td>1.1</td>\n",
       "      <td>93.994</td>\n",
       "      <td>-36.4</td>\n",
       "      <td>4.857</td>\n",
       "      <td>5191.0</td>\n",
       "      <td>0</td>\n",
       "      <td>0</td>\n",
       "    </tr>\n",
       "    <tr>\n",
       "      <th>1</th>\n",
       "      <td>57</td>\n",
       "      <td>services</td>\n",
       "      <td>married</td>\n",
       "      <td>high.school</td>\n",
       "      <td>unknown</td>\n",
       "      <td>no</td>\n",
       "      <td>no</td>\n",
       "      <td>telephone</td>\n",
       "      <td>may</td>\n",
       "      <td>mon</td>\n",
       "      <td>...</td>\n",
       "      <td>1</td>\n",
       "      <td>0</td>\n",
       "      <td>nonexistent</td>\n",
       "      <td>1.1</td>\n",
       "      <td>93.994</td>\n",
       "      <td>-36.4</td>\n",
       "      <td>4.857</td>\n",
       "      <td>5191.0</td>\n",
       "      <td>0</td>\n",
       "      <td>0</td>\n",
       "    </tr>\n",
       "    <tr>\n",
       "      <th>2</th>\n",
       "      <td>37</td>\n",
       "      <td>services</td>\n",
       "      <td>married</td>\n",
       "      <td>high.school</td>\n",
       "      <td>no</td>\n",
       "      <td>yes</td>\n",
       "      <td>no</td>\n",
       "      <td>telephone</td>\n",
       "      <td>may</td>\n",
       "      <td>mon</td>\n",
       "      <td>...</td>\n",
       "      <td>1</td>\n",
       "      <td>0</td>\n",
       "      <td>nonexistent</td>\n",
       "      <td>1.1</td>\n",
       "      <td>93.994</td>\n",
       "      <td>-36.4</td>\n",
       "      <td>4.857</td>\n",
       "      <td>5191.0</td>\n",
       "      <td>0</td>\n",
       "      <td>0</td>\n",
       "    </tr>\n",
       "    <tr>\n",
       "      <th>3</th>\n",
       "      <td>40</td>\n",
       "      <td>admin.</td>\n",
       "      <td>married</td>\n",
       "      <td>middle.school</td>\n",
       "      <td>no</td>\n",
       "      <td>no</td>\n",
       "      <td>no</td>\n",
       "      <td>telephone</td>\n",
       "      <td>may</td>\n",
       "      <td>mon</td>\n",
       "      <td>...</td>\n",
       "      <td>1</td>\n",
       "      <td>0</td>\n",
       "      <td>nonexistent</td>\n",
       "      <td>1.1</td>\n",
       "      <td>93.994</td>\n",
       "      <td>-36.4</td>\n",
       "      <td>4.857</td>\n",
       "      <td>5191.0</td>\n",
       "      <td>0</td>\n",
       "      <td>0</td>\n",
       "    </tr>\n",
       "    <tr>\n",
       "      <th>4</th>\n",
       "      <td>56</td>\n",
       "      <td>services</td>\n",
       "      <td>married</td>\n",
       "      <td>high.school</td>\n",
       "      <td>no</td>\n",
       "      <td>no</td>\n",
       "      <td>yes</td>\n",
       "      <td>telephone</td>\n",
       "      <td>may</td>\n",
       "      <td>mon</td>\n",
       "      <td>...</td>\n",
       "      <td>1</td>\n",
       "      <td>0</td>\n",
       "      <td>nonexistent</td>\n",
       "      <td>1.1</td>\n",
       "      <td>93.994</td>\n",
       "      <td>-36.4</td>\n",
       "      <td>4.857</td>\n",
       "      <td>5191.0</td>\n",
       "      <td>0</td>\n",
       "      <td>0</td>\n",
       "    </tr>\n",
       "  </tbody>\n",
       "</table>\n",
       "<p>5 rows × 21 columns</p>\n",
       "</div>"
      ],
      "text/plain": [
       "   age        job  marital      education  default housing loan    contact  \\\n",
       "0   56  housemaid  married  middle.school       no      no   no  telephone   \n",
       "1   57   services  married    high.school  unknown      no   no  telephone   \n",
       "2   37   services  married    high.school       no     yes   no  telephone   \n",
       "3   40     admin.  married  middle.school       no      no   no  telephone   \n",
       "4   56   services  married    high.school       no      no  yes  telephone   \n",
       "\n",
       "  month day_of_week  ...  campaign  previous     poutcome emp_var_rate  \\\n",
       "0   may         mon  ...         1         0  nonexistent          1.1   \n",
       "1   may         mon  ...         1         0  nonexistent          1.1   \n",
       "2   may         mon  ...         1         0  nonexistent          1.1   \n",
       "3   may         mon  ...         1         0  nonexistent          1.1   \n",
       "4   may         mon  ...         1         0  nonexistent          1.1   \n",
       "\n",
       "   cons_price_idx  cons_conf_idx  euribor3m  nr_employed  y  contacted_before  \n",
       "0          93.994          -36.4      4.857       5191.0  0                 0  \n",
       "1          93.994          -36.4      4.857       5191.0  0                 0  \n",
       "2          93.994          -36.4      4.857       5191.0  0                 0  \n",
       "3          93.994          -36.4      4.857       5191.0  0                 0  \n",
       "4          93.994          -36.4      4.857       5191.0  0                 0  \n",
       "\n",
       "[5 rows x 21 columns]"
      ]
     },
     "execution_count": 29,
     "metadata": {},
     "output_type": "execute_result"
    }
   ],
   "source": [
    "df.head()"
   ]
  },
  {
   "cell_type": "code",
   "execution_count": 30,
   "id": "afa28de2",
   "metadata": {
    "execution": {
     "iopub.execute_input": "2024-11-04T16:27:06.883222Z",
     "iopub.status.busy": "2024-11-04T16:27:06.882734Z",
     "iopub.status.idle": "2024-11-04T16:27:06.894860Z",
     "shell.execute_reply": "2024-11-04T16:27:06.893406Z"
    },
    "papermill": {
     "duration": 0.035564,
     "end_time": "2024-11-04T16:27:06.897421",
     "exception": false,
     "start_time": "2024-11-04T16:27:06.861857",
     "status": "completed"
    },
    "tags": []
   },
   "outputs": [
    {
     "data": {
      "text/plain": [
       "month\n",
       "may    12157\n",
       "jul     5876\n",
       "aug     5315\n",
       "jun     4507\n",
       "nov     3706\n",
       "apr     2305\n",
       "oct      594\n",
       "mar      467\n",
       "sep      459\n",
       "dec      138\n",
       "Name: count, dtype: int64"
      ]
     },
     "execution_count": 30,
     "metadata": {},
     "output_type": "execute_result"
    }
   ],
   "source": [
    "df[\"month\"].value_counts()"
   ]
  },
  {
   "cell_type": "code",
   "execution_count": 31,
   "id": "8a49a222",
   "metadata": {
    "execution": {
     "iopub.execute_input": "2024-11-04T16:27:06.939009Z",
     "iopub.status.busy": "2024-11-04T16:27:06.938589Z",
     "iopub.status.idle": "2024-11-04T16:27:06.953022Z",
     "shell.execute_reply": "2024-11-04T16:27:06.951776Z"
    },
    "papermill": {
     "duration": 0.038181,
     "end_time": "2024-11-04T16:27:06.955657",
     "exception": false,
     "start_time": "2024-11-04T16:27:06.917476",
     "status": "completed"
    },
    "tags": []
   },
   "outputs": [],
   "source": [
    "month_dict={'may':5,'jul':7,'aug':8,'jun':6,'nov':11,'apr':4,'oct':10,'sep':9,'mar':3,'dec':12}\n",
    "df['month']= df['month'].map(month_dict) \n",
    "\n",
    "day_dict={'thu':5,'mon':2,'wed':4,'tue':3,'fri':6}\n",
    "df['day_of_week']= df['day_of_week'].map(day_dict) "
   ]
  },
  {
   "cell_type": "code",
   "execution_count": 32,
   "id": "1f164a21",
   "metadata": {
    "execution": {
     "iopub.execute_input": "2024-11-04T16:27:06.999682Z",
     "iopub.status.busy": "2024-11-04T16:27:06.998479Z",
     "iopub.status.idle": "2024-11-04T16:27:07.025118Z",
     "shell.execute_reply": "2024-11-04T16:27:07.023639Z"
    },
    "papermill": {
     "duration": 0.051727,
     "end_time": "2024-11-04T16:27:07.027932",
     "exception": false,
     "start_time": "2024-11-04T16:27:06.976205",
     "status": "completed"
    },
    "tags": []
   },
   "outputs": [
    {
     "data": {
      "text/html": [
       "<div>\n",
       "<style scoped>\n",
       "    .dataframe tbody tr th:only-of-type {\n",
       "        vertical-align: middle;\n",
       "    }\n",
       "\n",
       "    .dataframe tbody tr th {\n",
       "        vertical-align: top;\n",
       "    }\n",
       "\n",
       "    .dataframe thead th {\n",
       "        text-align: right;\n",
       "    }\n",
       "</style>\n",
       "<table border=\"1\" class=\"dataframe\">\n",
       "  <thead>\n",
       "    <tr style=\"text-align: right;\">\n",
       "      <th></th>\n",
       "      <th>age</th>\n",
       "      <th>job</th>\n",
       "      <th>marital</th>\n",
       "      <th>education</th>\n",
       "      <th>default</th>\n",
       "      <th>housing</th>\n",
       "      <th>loan</th>\n",
       "      <th>contact</th>\n",
       "      <th>month</th>\n",
       "      <th>day_of_week</th>\n",
       "      <th>...</th>\n",
       "      <th>campaign</th>\n",
       "      <th>previous</th>\n",
       "      <th>poutcome</th>\n",
       "      <th>emp_var_rate</th>\n",
       "      <th>cons_price_idx</th>\n",
       "      <th>cons_conf_idx</th>\n",
       "      <th>euribor3m</th>\n",
       "      <th>nr_employed</th>\n",
       "      <th>y</th>\n",
       "      <th>contacted_before</th>\n",
       "    </tr>\n",
       "  </thead>\n",
       "  <tbody>\n",
       "    <tr>\n",
       "      <th>0</th>\n",
       "      <td>56</td>\n",
       "      <td>housemaid</td>\n",
       "      <td>married</td>\n",
       "      <td>middle.school</td>\n",
       "      <td>no</td>\n",
       "      <td>no</td>\n",
       "      <td>no</td>\n",
       "      <td>telephone</td>\n",
       "      <td>5</td>\n",
       "      <td>2</td>\n",
       "      <td>...</td>\n",
       "      <td>1</td>\n",
       "      <td>0</td>\n",
       "      <td>nonexistent</td>\n",
       "      <td>1.1</td>\n",
       "      <td>93.994</td>\n",
       "      <td>-36.4</td>\n",
       "      <td>4.857</td>\n",
       "      <td>5191.0</td>\n",
       "      <td>0</td>\n",
       "      <td>0</td>\n",
       "    </tr>\n",
       "    <tr>\n",
       "      <th>1</th>\n",
       "      <td>57</td>\n",
       "      <td>services</td>\n",
       "      <td>married</td>\n",
       "      <td>high.school</td>\n",
       "      <td>unknown</td>\n",
       "      <td>no</td>\n",
       "      <td>no</td>\n",
       "      <td>telephone</td>\n",
       "      <td>5</td>\n",
       "      <td>2</td>\n",
       "      <td>...</td>\n",
       "      <td>1</td>\n",
       "      <td>0</td>\n",
       "      <td>nonexistent</td>\n",
       "      <td>1.1</td>\n",
       "      <td>93.994</td>\n",
       "      <td>-36.4</td>\n",
       "      <td>4.857</td>\n",
       "      <td>5191.0</td>\n",
       "      <td>0</td>\n",
       "      <td>0</td>\n",
       "    </tr>\n",
       "    <tr>\n",
       "      <th>2</th>\n",
       "      <td>37</td>\n",
       "      <td>services</td>\n",
       "      <td>married</td>\n",
       "      <td>high.school</td>\n",
       "      <td>no</td>\n",
       "      <td>yes</td>\n",
       "      <td>no</td>\n",
       "      <td>telephone</td>\n",
       "      <td>5</td>\n",
       "      <td>2</td>\n",
       "      <td>...</td>\n",
       "      <td>1</td>\n",
       "      <td>0</td>\n",
       "      <td>nonexistent</td>\n",
       "      <td>1.1</td>\n",
       "      <td>93.994</td>\n",
       "      <td>-36.4</td>\n",
       "      <td>4.857</td>\n",
       "      <td>5191.0</td>\n",
       "      <td>0</td>\n",
       "      <td>0</td>\n",
       "    </tr>\n",
       "    <tr>\n",
       "      <th>3</th>\n",
       "      <td>40</td>\n",
       "      <td>admin.</td>\n",
       "      <td>married</td>\n",
       "      <td>middle.school</td>\n",
       "      <td>no</td>\n",
       "      <td>no</td>\n",
       "      <td>no</td>\n",
       "      <td>telephone</td>\n",
       "      <td>5</td>\n",
       "      <td>2</td>\n",
       "      <td>...</td>\n",
       "      <td>1</td>\n",
       "      <td>0</td>\n",
       "      <td>nonexistent</td>\n",
       "      <td>1.1</td>\n",
       "      <td>93.994</td>\n",
       "      <td>-36.4</td>\n",
       "      <td>4.857</td>\n",
       "      <td>5191.0</td>\n",
       "      <td>0</td>\n",
       "      <td>0</td>\n",
       "    </tr>\n",
       "    <tr>\n",
       "      <th>4</th>\n",
       "      <td>56</td>\n",
       "      <td>services</td>\n",
       "      <td>married</td>\n",
       "      <td>high.school</td>\n",
       "      <td>no</td>\n",
       "      <td>no</td>\n",
       "      <td>yes</td>\n",
       "      <td>telephone</td>\n",
       "      <td>5</td>\n",
       "      <td>2</td>\n",
       "      <td>...</td>\n",
       "      <td>1</td>\n",
       "      <td>0</td>\n",
       "      <td>nonexistent</td>\n",
       "      <td>1.1</td>\n",
       "      <td>93.994</td>\n",
       "      <td>-36.4</td>\n",
       "      <td>4.857</td>\n",
       "      <td>5191.0</td>\n",
       "      <td>0</td>\n",
       "      <td>0</td>\n",
       "    </tr>\n",
       "  </tbody>\n",
       "</table>\n",
       "<p>5 rows × 21 columns</p>\n",
       "</div>"
      ],
      "text/plain": [
       "   age        job  marital      education  default housing loan    contact  \\\n",
       "0   56  housemaid  married  middle.school       no      no   no  telephone   \n",
       "1   57   services  married    high.school  unknown      no   no  telephone   \n",
       "2   37   services  married    high.school       no     yes   no  telephone   \n",
       "3   40     admin.  married  middle.school       no      no   no  telephone   \n",
       "4   56   services  married    high.school       no      no  yes  telephone   \n",
       "\n",
       "   month  day_of_week  ...  campaign  previous     poutcome emp_var_rate  \\\n",
       "0      5            2  ...         1         0  nonexistent          1.1   \n",
       "1      5            2  ...         1         0  nonexistent          1.1   \n",
       "2      5            2  ...         1         0  nonexistent          1.1   \n",
       "3      5            2  ...         1         0  nonexistent          1.1   \n",
       "4      5            2  ...         1         0  nonexistent          1.1   \n",
       "\n",
       "   cons_price_idx  cons_conf_idx  euribor3m  nr_employed  y  contacted_before  \n",
       "0          93.994          -36.4      4.857       5191.0  0                 0  \n",
       "1          93.994          -36.4      4.857       5191.0  0                 0  \n",
       "2          93.994          -36.4      4.857       5191.0  0                 0  \n",
       "3          93.994          -36.4      4.857       5191.0  0                 0  \n",
       "4          93.994          -36.4      4.857       5191.0  0                 0  \n",
       "\n",
       "[5 rows x 21 columns]"
      ]
     },
     "execution_count": 32,
     "metadata": {},
     "output_type": "execute_result"
    }
   ],
   "source": [
    "df.head()"
   ]
  },
  {
   "cell_type": "code",
   "execution_count": 33,
   "id": "84c8dacc",
   "metadata": {
    "execution": {
     "iopub.execute_input": "2024-11-04T16:27:07.071334Z",
     "iopub.status.busy": "2024-11-04T16:27:07.070897Z",
     "iopub.status.idle": "2024-11-04T16:27:07.090146Z",
     "shell.execute_reply": "2024-11-04T16:27:07.088654Z"
    },
    "papermill": {
     "duration": 0.044275,
     "end_time": "2024-11-04T16:27:07.093166",
     "exception": false,
     "start_time": "2024-11-04T16:27:07.048891",
     "status": "completed"
    },
    "tags": []
   },
   "outputs": [],
   "source": [
    "dictionary={'yes':1,'no':0,'unknown':-1}\n",
    "df['housing']=df['housing'].map(dictionary)\n",
    "df['default']=df['default'].map(dictionary)\n",
    "df['loan']=df['loan'].map(dictionary)"
   ]
  },
  {
   "cell_type": "code",
   "execution_count": 34,
   "id": "f6d37eb3",
   "metadata": {
    "execution": {
     "iopub.execute_input": "2024-11-04T16:27:07.136757Z",
     "iopub.status.busy": "2024-11-04T16:27:07.136320Z",
     "iopub.status.idle": "2024-11-04T16:27:07.166976Z",
     "shell.execute_reply": "2024-11-04T16:27:07.165053Z"
    },
    "papermill": {
     "duration": 0.055928,
     "end_time": "2024-11-04T16:27:07.170402",
     "exception": false,
     "start_time": "2024-11-04T16:27:07.114474",
     "status": "completed"
    },
    "tags": []
   },
   "outputs": [
    {
     "data": {
      "text/html": [
       "<div>\n",
       "<style scoped>\n",
       "    .dataframe tbody tr th:only-of-type {\n",
       "        vertical-align: middle;\n",
       "    }\n",
       "\n",
       "    .dataframe tbody tr th {\n",
       "        vertical-align: top;\n",
       "    }\n",
       "\n",
       "    .dataframe thead th {\n",
       "        text-align: right;\n",
       "    }\n",
       "</style>\n",
       "<table border=\"1\" class=\"dataframe\">\n",
       "  <thead>\n",
       "    <tr style=\"text-align: right;\">\n",
       "      <th></th>\n",
       "      <th>age</th>\n",
       "      <th>job</th>\n",
       "      <th>marital</th>\n",
       "      <th>education</th>\n",
       "      <th>default</th>\n",
       "      <th>housing</th>\n",
       "      <th>loan</th>\n",
       "      <th>contact</th>\n",
       "      <th>month</th>\n",
       "      <th>day_of_week</th>\n",
       "      <th>...</th>\n",
       "      <th>campaign</th>\n",
       "      <th>previous</th>\n",
       "      <th>poutcome</th>\n",
       "      <th>emp_var_rate</th>\n",
       "      <th>cons_price_idx</th>\n",
       "      <th>cons_conf_idx</th>\n",
       "      <th>euribor3m</th>\n",
       "      <th>nr_employed</th>\n",
       "      <th>y</th>\n",
       "      <th>contacted_before</th>\n",
       "    </tr>\n",
       "  </thead>\n",
       "  <tbody>\n",
       "    <tr>\n",
       "      <th>0</th>\n",
       "      <td>56</td>\n",
       "      <td>housemaid</td>\n",
       "      <td>married</td>\n",
       "      <td>middle.school</td>\n",
       "      <td>0</td>\n",
       "      <td>0</td>\n",
       "      <td>0</td>\n",
       "      <td>telephone</td>\n",
       "      <td>5</td>\n",
       "      <td>2</td>\n",
       "      <td>...</td>\n",
       "      <td>1</td>\n",
       "      <td>0</td>\n",
       "      <td>nonexistent</td>\n",
       "      <td>1.1</td>\n",
       "      <td>93.994</td>\n",
       "      <td>-36.4</td>\n",
       "      <td>4.857</td>\n",
       "      <td>5191.0</td>\n",
       "      <td>0</td>\n",
       "      <td>0</td>\n",
       "    </tr>\n",
       "    <tr>\n",
       "      <th>1</th>\n",
       "      <td>57</td>\n",
       "      <td>services</td>\n",
       "      <td>married</td>\n",
       "      <td>high.school</td>\n",
       "      <td>-1</td>\n",
       "      <td>0</td>\n",
       "      <td>0</td>\n",
       "      <td>telephone</td>\n",
       "      <td>5</td>\n",
       "      <td>2</td>\n",
       "      <td>...</td>\n",
       "      <td>1</td>\n",
       "      <td>0</td>\n",
       "      <td>nonexistent</td>\n",
       "      <td>1.1</td>\n",
       "      <td>93.994</td>\n",
       "      <td>-36.4</td>\n",
       "      <td>4.857</td>\n",
       "      <td>5191.0</td>\n",
       "      <td>0</td>\n",
       "      <td>0</td>\n",
       "    </tr>\n",
       "    <tr>\n",
       "      <th>2</th>\n",
       "      <td>37</td>\n",
       "      <td>services</td>\n",
       "      <td>married</td>\n",
       "      <td>high.school</td>\n",
       "      <td>0</td>\n",
       "      <td>1</td>\n",
       "      <td>0</td>\n",
       "      <td>telephone</td>\n",
       "      <td>5</td>\n",
       "      <td>2</td>\n",
       "      <td>...</td>\n",
       "      <td>1</td>\n",
       "      <td>0</td>\n",
       "      <td>nonexistent</td>\n",
       "      <td>1.1</td>\n",
       "      <td>93.994</td>\n",
       "      <td>-36.4</td>\n",
       "      <td>4.857</td>\n",
       "      <td>5191.0</td>\n",
       "      <td>0</td>\n",
       "      <td>0</td>\n",
       "    </tr>\n",
       "    <tr>\n",
       "      <th>3</th>\n",
       "      <td>40</td>\n",
       "      <td>admin.</td>\n",
       "      <td>married</td>\n",
       "      <td>middle.school</td>\n",
       "      <td>0</td>\n",
       "      <td>0</td>\n",
       "      <td>0</td>\n",
       "      <td>telephone</td>\n",
       "      <td>5</td>\n",
       "      <td>2</td>\n",
       "      <td>...</td>\n",
       "      <td>1</td>\n",
       "      <td>0</td>\n",
       "      <td>nonexistent</td>\n",
       "      <td>1.1</td>\n",
       "      <td>93.994</td>\n",
       "      <td>-36.4</td>\n",
       "      <td>4.857</td>\n",
       "      <td>5191.0</td>\n",
       "      <td>0</td>\n",
       "      <td>0</td>\n",
       "    </tr>\n",
       "    <tr>\n",
       "      <th>4</th>\n",
       "      <td>56</td>\n",
       "      <td>services</td>\n",
       "      <td>married</td>\n",
       "      <td>high.school</td>\n",
       "      <td>0</td>\n",
       "      <td>0</td>\n",
       "      <td>1</td>\n",
       "      <td>telephone</td>\n",
       "      <td>5</td>\n",
       "      <td>2</td>\n",
       "      <td>...</td>\n",
       "      <td>1</td>\n",
       "      <td>0</td>\n",
       "      <td>nonexistent</td>\n",
       "      <td>1.1</td>\n",
       "      <td>93.994</td>\n",
       "      <td>-36.4</td>\n",
       "      <td>4.857</td>\n",
       "      <td>5191.0</td>\n",
       "      <td>0</td>\n",
       "      <td>0</td>\n",
       "    </tr>\n",
       "  </tbody>\n",
       "</table>\n",
       "<p>5 rows × 21 columns</p>\n",
       "</div>"
      ],
      "text/plain": [
       "   age        job  marital      education  default  housing  loan    contact  \\\n",
       "0   56  housemaid  married  middle.school        0        0     0  telephone   \n",
       "1   57   services  married    high.school       -1        0     0  telephone   \n",
       "2   37   services  married    high.school        0        1     0  telephone   \n",
       "3   40     admin.  married  middle.school        0        0     0  telephone   \n",
       "4   56   services  married    high.school        0        0     1  telephone   \n",
       "\n",
       "   month  day_of_week  ...  campaign  previous     poutcome emp_var_rate  \\\n",
       "0      5            2  ...         1         0  nonexistent          1.1   \n",
       "1      5            2  ...         1         0  nonexistent          1.1   \n",
       "2      5            2  ...         1         0  nonexistent          1.1   \n",
       "3      5            2  ...         1         0  nonexistent          1.1   \n",
       "4      5            2  ...         1         0  nonexistent          1.1   \n",
       "\n",
       "   cons_price_idx  cons_conf_idx  euribor3m  nr_employed  y  contacted_before  \n",
       "0          93.994          -36.4      4.857       5191.0  0                 0  \n",
       "1          93.994          -36.4      4.857       5191.0  0                 0  \n",
       "2          93.994          -36.4      4.857       5191.0  0                 0  \n",
       "3          93.994          -36.4      4.857       5191.0  0                 0  \n",
       "4          93.994          -36.4      4.857       5191.0  0                 0  \n",
       "\n",
       "[5 rows x 21 columns]"
      ]
     },
     "execution_count": 34,
     "metadata": {},
     "output_type": "execute_result"
    }
   ],
   "source": [
    "df.head()"
   ]
  },
  {
   "cell_type": "code",
   "execution_count": 35,
   "id": "7088d9a2",
   "metadata": {
    "execution": {
     "iopub.execute_input": "2024-11-04T16:27:07.214825Z",
     "iopub.status.busy": "2024-11-04T16:27:07.214306Z",
     "iopub.status.idle": "2024-11-04T16:27:07.227407Z",
     "shell.execute_reply": "2024-11-04T16:27:07.226195Z"
    },
    "papermill": {
     "duration": 0.039718,
     "end_time": "2024-11-04T16:27:07.230980",
     "exception": false,
     "start_time": "2024-11-04T16:27:07.191262",
     "status": "completed"
    },
    "tags": []
   },
   "outputs": [],
   "source": [
    "df.contact = df.contact.map({'cellular': 1, 'telephone': 0})\n",
    "df.poutcome = df.poutcome.map({'nonexistent':0, 'failure':0, 'success':1})"
   ]
  },
  {
   "cell_type": "code",
   "execution_count": 36,
   "id": "d6f2e544",
   "metadata": {
    "execution": {
     "iopub.execute_input": "2024-11-04T16:27:07.276078Z",
     "iopub.status.busy": "2024-11-04T16:27:07.275660Z",
     "iopub.status.idle": "2024-11-04T16:27:07.303409Z",
     "shell.execute_reply": "2024-11-04T16:27:07.302151Z"
    },
    "papermill": {
     "duration": 0.053955,
     "end_time": "2024-11-04T16:27:07.306093",
     "exception": false,
     "start_time": "2024-11-04T16:27:07.252138",
     "status": "completed"
    },
    "tags": []
   },
   "outputs": [
    {
     "data": {
      "text/html": [
       "<div>\n",
       "<style scoped>\n",
       "    .dataframe tbody tr th:only-of-type {\n",
       "        vertical-align: middle;\n",
       "    }\n",
       "\n",
       "    .dataframe tbody tr th {\n",
       "        vertical-align: top;\n",
       "    }\n",
       "\n",
       "    .dataframe thead th {\n",
       "        text-align: right;\n",
       "    }\n",
       "</style>\n",
       "<table border=\"1\" class=\"dataframe\">\n",
       "  <thead>\n",
       "    <tr style=\"text-align: right;\">\n",
       "      <th></th>\n",
       "      <th>age</th>\n",
       "      <th>job</th>\n",
       "      <th>marital</th>\n",
       "      <th>education</th>\n",
       "      <th>default</th>\n",
       "      <th>housing</th>\n",
       "      <th>loan</th>\n",
       "      <th>contact</th>\n",
       "      <th>month</th>\n",
       "      <th>day_of_week</th>\n",
       "      <th>...</th>\n",
       "      <th>campaign</th>\n",
       "      <th>previous</th>\n",
       "      <th>poutcome</th>\n",
       "      <th>emp_var_rate</th>\n",
       "      <th>cons_price_idx</th>\n",
       "      <th>cons_conf_idx</th>\n",
       "      <th>euribor3m</th>\n",
       "      <th>nr_employed</th>\n",
       "      <th>y</th>\n",
       "      <th>contacted_before</th>\n",
       "    </tr>\n",
       "  </thead>\n",
       "  <tbody>\n",
       "    <tr>\n",
       "      <th>0</th>\n",
       "      <td>56</td>\n",
       "      <td>housemaid</td>\n",
       "      <td>married</td>\n",
       "      <td>middle.school</td>\n",
       "      <td>0</td>\n",
       "      <td>0</td>\n",
       "      <td>0</td>\n",
       "      <td>0</td>\n",
       "      <td>5</td>\n",
       "      <td>2</td>\n",
       "      <td>...</td>\n",
       "      <td>1</td>\n",
       "      <td>0</td>\n",
       "      <td>0</td>\n",
       "      <td>1.1</td>\n",
       "      <td>93.994</td>\n",
       "      <td>-36.4</td>\n",
       "      <td>4.857</td>\n",
       "      <td>5191.0</td>\n",
       "      <td>0</td>\n",
       "      <td>0</td>\n",
       "    </tr>\n",
       "    <tr>\n",
       "      <th>1</th>\n",
       "      <td>57</td>\n",
       "      <td>services</td>\n",
       "      <td>married</td>\n",
       "      <td>high.school</td>\n",
       "      <td>-1</td>\n",
       "      <td>0</td>\n",
       "      <td>0</td>\n",
       "      <td>0</td>\n",
       "      <td>5</td>\n",
       "      <td>2</td>\n",
       "      <td>...</td>\n",
       "      <td>1</td>\n",
       "      <td>0</td>\n",
       "      <td>0</td>\n",
       "      <td>1.1</td>\n",
       "      <td>93.994</td>\n",
       "      <td>-36.4</td>\n",
       "      <td>4.857</td>\n",
       "      <td>5191.0</td>\n",
       "      <td>0</td>\n",
       "      <td>0</td>\n",
       "    </tr>\n",
       "    <tr>\n",
       "      <th>2</th>\n",
       "      <td>37</td>\n",
       "      <td>services</td>\n",
       "      <td>married</td>\n",
       "      <td>high.school</td>\n",
       "      <td>0</td>\n",
       "      <td>1</td>\n",
       "      <td>0</td>\n",
       "      <td>0</td>\n",
       "      <td>5</td>\n",
       "      <td>2</td>\n",
       "      <td>...</td>\n",
       "      <td>1</td>\n",
       "      <td>0</td>\n",
       "      <td>0</td>\n",
       "      <td>1.1</td>\n",
       "      <td>93.994</td>\n",
       "      <td>-36.4</td>\n",
       "      <td>4.857</td>\n",
       "      <td>5191.0</td>\n",
       "      <td>0</td>\n",
       "      <td>0</td>\n",
       "    </tr>\n",
       "    <tr>\n",
       "      <th>3</th>\n",
       "      <td>40</td>\n",
       "      <td>admin.</td>\n",
       "      <td>married</td>\n",
       "      <td>middle.school</td>\n",
       "      <td>0</td>\n",
       "      <td>0</td>\n",
       "      <td>0</td>\n",
       "      <td>0</td>\n",
       "      <td>5</td>\n",
       "      <td>2</td>\n",
       "      <td>...</td>\n",
       "      <td>1</td>\n",
       "      <td>0</td>\n",
       "      <td>0</td>\n",
       "      <td>1.1</td>\n",
       "      <td>93.994</td>\n",
       "      <td>-36.4</td>\n",
       "      <td>4.857</td>\n",
       "      <td>5191.0</td>\n",
       "      <td>0</td>\n",
       "      <td>0</td>\n",
       "    </tr>\n",
       "    <tr>\n",
       "      <th>4</th>\n",
       "      <td>56</td>\n",
       "      <td>services</td>\n",
       "      <td>married</td>\n",
       "      <td>high.school</td>\n",
       "      <td>0</td>\n",
       "      <td>0</td>\n",
       "      <td>1</td>\n",
       "      <td>0</td>\n",
       "      <td>5</td>\n",
       "      <td>2</td>\n",
       "      <td>...</td>\n",
       "      <td>1</td>\n",
       "      <td>0</td>\n",
       "      <td>0</td>\n",
       "      <td>1.1</td>\n",
       "      <td>93.994</td>\n",
       "      <td>-36.4</td>\n",
       "      <td>4.857</td>\n",
       "      <td>5191.0</td>\n",
       "      <td>0</td>\n",
       "      <td>0</td>\n",
       "    </tr>\n",
       "  </tbody>\n",
       "</table>\n",
       "<p>5 rows × 21 columns</p>\n",
       "</div>"
      ],
      "text/plain": [
       "   age        job  marital      education  default  housing  loan  contact  \\\n",
       "0   56  housemaid  married  middle.school        0        0     0        0   \n",
       "1   57   services  married    high.school       -1        0     0        0   \n",
       "2   37   services  married    high.school        0        1     0        0   \n",
       "3   40     admin.  married  middle.school        0        0     0        0   \n",
       "4   56   services  married    high.school        0        0     1        0   \n",
       "\n",
       "   month  day_of_week  ...  campaign  previous  poutcome  emp_var_rate  \\\n",
       "0      5            2  ...         1         0         0           1.1   \n",
       "1      5            2  ...         1         0         0           1.1   \n",
       "2      5            2  ...         1         0         0           1.1   \n",
       "3      5            2  ...         1         0         0           1.1   \n",
       "4      5            2  ...         1         0         0           1.1   \n",
       "\n",
       "   cons_price_idx  cons_conf_idx  euribor3m  nr_employed  y  contacted_before  \n",
       "0          93.994          -36.4      4.857       5191.0  0                 0  \n",
       "1          93.994          -36.4      4.857       5191.0  0                 0  \n",
       "2          93.994          -36.4      4.857       5191.0  0                 0  \n",
       "3          93.994          -36.4      4.857       5191.0  0                 0  \n",
       "4          93.994          -36.4      4.857       5191.0  0                 0  \n",
       "\n",
       "[5 rows x 21 columns]"
      ]
     },
     "execution_count": 36,
     "metadata": {},
     "output_type": "execute_result"
    }
   ],
   "source": [
    "df.head()"
   ]
  },
  {
   "cell_type": "code",
   "execution_count": 37,
   "id": "d2211d1e",
   "metadata": {
    "execution": {
     "iopub.execute_input": "2024-11-04T16:27:07.350518Z",
     "iopub.status.busy": "2024-11-04T16:27:07.350086Z",
     "iopub.status.idle": "2024-11-04T16:27:07.391361Z",
     "shell.execute_reply": "2024-11-04T16:27:07.389618Z"
    },
    "papermill": {
     "duration": 0.066901,
     "end_time": "2024-11-04T16:27:07.394927",
     "exception": false,
     "start_time": "2024-11-04T16:27:07.328026",
     "status": "completed"
    },
    "tags": []
   },
   "outputs": [
    {
     "data": {
      "text/plain": [
       "Index(['age', 'default', 'housing', 'loan', 'contact', 'month', 'day_of_week',\n",
       "       'duration', 'campaign', 'previous', 'poutcome', 'emp_var_rate',\n",
       "       'cons_price_idx', 'cons_conf_idx', 'euribor3m', 'nr_employed', 'y',\n",
       "       'contacted_before', 'job_admin.', 'job_blue-collar', 'job_entrepreneur',\n",
       "       'job_housemaid', 'job_management', 'job_retired', 'job_self-employed',\n",
       "       'job_services', 'job_student', 'job_technician', 'job_unemployed',\n",
       "       'job_unknown', 'marital_divorced', 'marital_married', 'marital_single',\n",
       "       'marital_unknown', 'education_high.school', 'education_illiterate',\n",
       "       'education_middle.school', 'education_professional.course',\n",
       "       'education_university.degree', 'education_unknown'],\n",
       "      dtype='object')"
      ]
     },
     "execution_count": 37,
     "metadata": {},
     "output_type": "execute_result"
    }
   ],
   "source": [
    "df = pd.get_dummies(df)\n",
    "df.columns"
   ]
  },
  {
   "cell_type": "code",
   "execution_count": 38,
   "id": "fc908816",
   "metadata": {
    "execution": {
     "iopub.execute_input": "2024-11-04T16:27:07.442572Z",
     "iopub.status.busy": "2024-11-04T16:27:07.441438Z",
     "iopub.status.idle": "2024-11-04T16:27:07.464981Z",
     "shell.execute_reply": "2024-11-04T16:27:07.463722Z"
    },
    "papermill": {
     "duration": 0.049694,
     "end_time": "2024-11-04T16:27:07.467587",
     "exception": false,
     "start_time": "2024-11-04T16:27:07.417893",
     "status": "completed"
    },
    "tags": []
   },
   "outputs": [
    {
     "data": {
      "text/html": [
       "<div>\n",
       "<style scoped>\n",
       "    .dataframe tbody tr th:only-of-type {\n",
       "        vertical-align: middle;\n",
       "    }\n",
       "\n",
       "    .dataframe tbody tr th {\n",
       "        vertical-align: top;\n",
       "    }\n",
       "\n",
       "    .dataframe thead th {\n",
       "        text-align: right;\n",
       "    }\n",
       "</style>\n",
       "<table border=\"1\" class=\"dataframe\">\n",
       "  <thead>\n",
       "    <tr style=\"text-align: right;\">\n",
       "      <th></th>\n",
       "      <th>age</th>\n",
       "      <th>default</th>\n",
       "      <th>housing</th>\n",
       "      <th>loan</th>\n",
       "      <th>contact</th>\n",
       "      <th>month</th>\n",
       "      <th>day_of_week</th>\n",
       "      <th>duration</th>\n",
       "      <th>campaign</th>\n",
       "      <th>previous</th>\n",
       "      <th>...</th>\n",
       "      <th>marital_divorced</th>\n",
       "      <th>marital_married</th>\n",
       "      <th>marital_single</th>\n",
       "      <th>marital_unknown</th>\n",
       "      <th>education_high.school</th>\n",
       "      <th>education_illiterate</th>\n",
       "      <th>education_middle.school</th>\n",
       "      <th>education_professional.course</th>\n",
       "      <th>education_university.degree</th>\n",
       "      <th>education_unknown</th>\n",
       "    </tr>\n",
       "  </thead>\n",
       "  <tbody>\n",
       "    <tr>\n",
       "      <th>0</th>\n",
       "      <td>56</td>\n",
       "      <td>0</td>\n",
       "      <td>0</td>\n",
       "      <td>0</td>\n",
       "      <td>0</td>\n",
       "      <td>5</td>\n",
       "      <td>2</td>\n",
       "      <td>261</td>\n",
       "      <td>1</td>\n",
       "      <td>0</td>\n",
       "      <td>...</td>\n",
       "      <td>False</td>\n",
       "      <td>True</td>\n",
       "      <td>False</td>\n",
       "      <td>False</td>\n",
       "      <td>False</td>\n",
       "      <td>False</td>\n",
       "      <td>True</td>\n",
       "      <td>False</td>\n",
       "      <td>False</td>\n",
       "      <td>False</td>\n",
       "    </tr>\n",
       "    <tr>\n",
       "      <th>1</th>\n",
       "      <td>57</td>\n",
       "      <td>-1</td>\n",
       "      <td>0</td>\n",
       "      <td>0</td>\n",
       "      <td>0</td>\n",
       "      <td>5</td>\n",
       "      <td>2</td>\n",
       "      <td>149</td>\n",
       "      <td>1</td>\n",
       "      <td>0</td>\n",
       "      <td>...</td>\n",
       "      <td>False</td>\n",
       "      <td>True</td>\n",
       "      <td>False</td>\n",
       "      <td>False</td>\n",
       "      <td>True</td>\n",
       "      <td>False</td>\n",
       "      <td>False</td>\n",
       "      <td>False</td>\n",
       "      <td>False</td>\n",
       "      <td>False</td>\n",
       "    </tr>\n",
       "    <tr>\n",
       "      <th>2</th>\n",
       "      <td>37</td>\n",
       "      <td>0</td>\n",
       "      <td>1</td>\n",
       "      <td>0</td>\n",
       "      <td>0</td>\n",
       "      <td>5</td>\n",
       "      <td>2</td>\n",
       "      <td>226</td>\n",
       "      <td>1</td>\n",
       "      <td>0</td>\n",
       "      <td>...</td>\n",
       "      <td>False</td>\n",
       "      <td>True</td>\n",
       "      <td>False</td>\n",
       "      <td>False</td>\n",
       "      <td>True</td>\n",
       "      <td>False</td>\n",
       "      <td>False</td>\n",
       "      <td>False</td>\n",
       "      <td>False</td>\n",
       "      <td>False</td>\n",
       "    </tr>\n",
       "    <tr>\n",
       "      <th>3</th>\n",
       "      <td>40</td>\n",
       "      <td>0</td>\n",
       "      <td>0</td>\n",
       "      <td>0</td>\n",
       "      <td>0</td>\n",
       "      <td>5</td>\n",
       "      <td>2</td>\n",
       "      <td>151</td>\n",
       "      <td>1</td>\n",
       "      <td>0</td>\n",
       "      <td>...</td>\n",
       "      <td>False</td>\n",
       "      <td>True</td>\n",
       "      <td>False</td>\n",
       "      <td>False</td>\n",
       "      <td>False</td>\n",
       "      <td>False</td>\n",
       "      <td>True</td>\n",
       "      <td>False</td>\n",
       "      <td>False</td>\n",
       "      <td>False</td>\n",
       "    </tr>\n",
       "    <tr>\n",
       "      <th>4</th>\n",
       "      <td>56</td>\n",
       "      <td>0</td>\n",
       "      <td>0</td>\n",
       "      <td>1</td>\n",
       "      <td>0</td>\n",
       "      <td>5</td>\n",
       "      <td>2</td>\n",
       "      <td>307</td>\n",
       "      <td>1</td>\n",
       "      <td>0</td>\n",
       "      <td>...</td>\n",
       "      <td>False</td>\n",
       "      <td>True</td>\n",
       "      <td>False</td>\n",
       "      <td>False</td>\n",
       "      <td>True</td>\n",
       "      <td>False</td>\n",
       "      <td>False</td>\n",
       "      <td>False</td>\n",
       "      <td>False</td>\n",
       "      <td>False</td>\n",
       "    </tr>\n",
       "  </tbody>\n",
       "</table>\n",
       "<p>5 rows × 40 columns</p>\n",
       "</div>"
      ],
      "text/plain": [
       "   age  default  housing  loan  contact  month  day_of_week  duration  \\\n",
       "0   56        0        0     0        0      5            2       261   \n",
       "1   57       -1        0     0        0      5            2       149   \n",
       "2   37        0        1     0        0      5            2       226   \n",
       "3   40        0        0     0        0      5            2       151   \n",
       "4   56        0        0     1        0      5            2       307   \n",
       "\n",
       "   campaign  previous  ...  marital_divorced  marital_married  marital_single  \\\n",
       "0         1         0  ...             False             True           False   \n",
       "1         1         0  ...             False             True           False   \n",
       "2         1         0  ...             False             True           False   \n",
       "3         1         0  ...             False             True           False   \n",
       "4         1         0  ...             False             True           False   \n",
       "\n",
       "   marital_unknown  education_high.school  education_illiterate  \\\n",
       "0            False                  False                 False   \n",
       "1            False                   True                 False   \n",
       "2            False                   True                 False   \n",
       "3            False                  False                 False   \n",
       "4            False                   True                 False   \n",
       "\n",
       "   education_middle.school  education_professional.course  \\\n",
       "0                     True                          False   \n",
       "1                    False                          False   \n",
       "2                    False                          False   \n",
       "3                     True                          False   \n",
       "4                    False                          False   \n",
       "\n",
       "   education_university.degree  education_unknown  \n",
       "0                        False              False  \n",
       "1                        False              False  \n",
       "2                        False              False  \n",
       "3                        False              False  \n",
       "4                        False              False  \n",
       "\n",
       "[5 rows x 40 columns]"
      ]
     },
     "execution_count": 38,
     "metadata": {},
     "output_type": "execute_result"
    }
   ],
   "source": [
    "df.head()"
   ]
  },
  {
   "cell_type": "code",
   "execution_count": 39,
   "id": "d982d5c1",
   "metadata": {
    "execution": {
     "iopub.execute_input": "2024-11-04T16:27:07.511620Z",
     "iopub.status.busy": "2024-11-04T16:27:07.511170Z",
     "iopub.status.idle": "2024-11-04T16:27:07.521087Z",
     "shell.execute_reply": "2024-11-04T16:27:07.519817Z"
    },
    "papermill": {
     "duration": 0.0348,
     "end_time": "2024-11-04T16:27:07.523780",
     "exception": false,
     "start_time": "2024-11-04T16:27:07.488980",
     "status": "completed"
    },
    "tags": []
   },
   "outputs": [
    {
     "data": {
      "text/plain": [
       "y\n",
       "0    32651\n",
       "1     2873\n",
       "Name: count, dtype: int64"
      ]
     },
     "execution_count": 39,
     "metadata": {},
     "output_type": "execute_result"
    }
   ],
   "source": [
    "df.y.value_counts()"
   ]
  },
  {
   "cell_type": "code",
   "execution_count": 40,
   "id": "827f18ca",
   "metadata": {
    "execution": {
     "iopub.execute_input": "2024-11-04T16:27:07.569694Z",
     "iopub.status.busy": "2024-11-04T16:27:07.569233Z",
     "iopub.status.idle": "2024-11-04T16:27:07.580257Z",
     "shell.execute_reply": "2024-11-04T16:27:07.578991Z"
    },
    "papermill": {
     "duration": 0.036874,
     "end_time": "2024-11-04T16:27:07.582994",
     "exception": false,
     "start_time": "2024-11-04T16:27:07.546120",
     "status": "completed"
    },
    "tags": []
   },
   "outputs": [],
   "source": [
    "x=df.drop(['y'],axis=1)\n",
    "y=df['y']"
   ]
  },
  {
   "cell_type": "code",
   "execution_count": 41,
   "id": "05f13ba7",
   "metadata": {
    "execution": {
     "iopub.execute_input": "2024-11-04T16:27:07.628277Z",
     "iopub.status.busy": "2024-11-04T16:27:07.627868Z",
     "iopub.status.idle": "2024-11-04T16:27:07.812956Z",
     "shell.execute_reply": "2024-11-04T16:27:07.811576Z"
    },
    "papermill": {
     "duration": 0.211317,
     "end_time": "2024-11-04T16:27:07.815758",
     "exception": false,
     "start_time": "2024-11-04T16:27:07.604441",
     "status": "completed"
    },
    "tags": []
   },
   "outputs": [],
   "source": [
    "from imblearn.over_sampling import SMOTE\n",
    "smote = SMOTE(sampling_strategy='auto', random_state=42)\n",
    "x, y = smote.fit_resample(x, y)"
   ]
  },
  {
   "cell_type": "code",
   "execution_count": 42,
   "id": "6f69b959",
   "metadata": {
    "execution": {
     "iopub.execute_input": "2024-11-04T16:27:07.861890Z",
     "iopub.status.busy": "2024-11-04T16:27:07.860565Z",
     "iopub.status.idle": "2024-11-04T16:27:07.870224Z",
     "shell.execute_reply": "2024-11-04T16:27:07.869177Z"
    },
    "papermill": {
     "duration": 0.035568,
     "end_time": "2024-11-04T16:27:07.872724",
     "exception": false,
     "start_time": "2024-11-04T16:27:07.837156",
     "status": "completed"
    },
    "tags": []
   },
   "outputs": [
    {
     "data": {
      "text/plain": [
       "y\n",
       "0    32651\n",
       "1    32651\n",
       "Name: count, dtype: int64"
      ]
     },
     "execution_count": 42,
     "metadata": {},
     "output_type": "execute_result"
    }
   ],
   "source": [
    "y.value_counts()"
   ]
  },
  {
   "cell_type": "code",
   "execution_count": 43,
   "id": "b2b93234",
   "metadata": {
    "execution": {
     "iopub.execute_input": "2024-11-04T16:27:07.917736Z",
     "iopub.status.busy": "2024-11-04T16:27:07.917290Z",
     "iopub.status.idle": "2024-11-04T16:27:08.093987Z",
     "shell.execute_reply": "2024-11-04T16:27:08.092487Z"
    },
    "papermill": {
     "duration": 0.202384,
     "end_time": "2024-11-04T16:27:08.096790",
     "exception": false,
     "start_time": "2024-11-04T16:27:07.894406",
     "status": "completed"
    },
    "tags": []
   },
   "outputs": [],
   "source": [
    "from sklearn.model_selection import train_test_split\n",
    "from sklearn.linear_model import LogisticRegression\n",
    "from sklearn.tree import DecisionTreeClassifier\n",
    "from sklearn.ensemble import GradientBoostingClassifier, RandomForestClassifier, AdaBoostClassifier\n",
    "from sklearn.neighbors import KNeighborsClassifier\n",
    "from xgboost import XGBClassifier\n",
    "from sklearn.metrics import precision_score, confusion_matrix, accuracy_score\n",
    "from sklearn.preprocessing import StandardScaler"
   ]
  },
  {
   "cell_type": "code",
   "execution_count": 44,
   "id": "ee05f87e",
   "metadata": {
    "execution": {
     "iopub.execute_input": "2024-11-04T16:27:08.143596Z",
     "iopub.status.busy": "2024-11-04T16:27:08.143142Z",
     "iopub.status.idle": "2024-11-04T16:27:41.412553Z",
     "shell.execute_reply": "2024-11-04T16:27:41.411166Z"
    },
    "papermill": {
     "duration": 33.317679,
     "end_time": "2024-11-04T16:27:41.436882",
     "exception": false,
     "start_time": "2024-11-04T16:27:08.119203",
     "status": "completed"
    },
    "tags": []
   },
   "outputs": [
    {
     "name": "stdout",
     "output_type": "stream",
     "text": [
      "Logistic Regression:\n",
      "Accuracy Score:  0.9531429446443611\n",
      "Precision Score:  0.9643977415307403\n",
      "[[6300  227]\n",
      " [ 385 6149]]\n",
      "\n",
      "Decision Tree:\n",
      "Accuracy Score:  0.9457162544981241\n",
      "Precision Score:  0.9385634693570245\n",
      "[[6119  408]\n",
      " [ 301 6233]]\n",
      "\n",
      "Gradient Boosting Classifier:\n",
      "Accuracy Score:  0.94778347752852\n",
      "Precision Score:  0.9354166666666667\n",
      "[[6093  434]\n",
      " [ 248 6286]]\n",
      "\n",
      "XGB Classifier:\n",
      "Accuracy Score:  0.965929101906439\n",
      "Precision Score:  0.9620579754135681\n",
      "[[6277  250]\n",
      " [ 195 6339]]\n",
      "\n",
      "K-Nearest Neighbors:\n",
      "Accuracy Score:  0.9542148380675293\n",
      "Precision Score:  0.9479323875641412\n",
      "[[6182  345]\n",
      " [ 253 6281]]\n",
      "\n",
      "Random Forest Classifier:\n",
      "Accuracy Score:  0.9675369420411913\n",
      "Precision Score:  0.9580209895052474\n",
      "[[6247  280]\n",
      " [ 144 6390]]\n",
      "\n",
      "Ada Boost Classifier:\n",
      "Accuracy Score:  0.943725595283669\n",
      "Precision Score:  0.9412570385025111\n",
      "[[6141  386]\n",
      " [ 349 6185]]\n",
      "\n"
     ]
    }
   ],
   "source": [
    "X_train, X_test, y_train, y_test = train_test_split(x, y, test_size=0.2, random_state=42)\n",
    "\n",
    "scaler = StandardScaler()\n",
    "X_train = scaler.fit_transform(X_train)\n",
    "X_test = scaler.transform(X_test)\n",
    "\n",
    "models = {\n",
    "    \"Logistic Regression\": LogisticRegression(),\n",
    "    \"Decision Tree\": DecisionTreeClassifier(),\n",
    "    \"Gradient Boosting Classifier\": GradientBoostingClassifier(),\n",
    "    \"XGB Classifier\" :XGBClassifier(),\n",
    "    \"K-Nearest Neighbors\": KNeighborsClassifier(),\n",
    "    \"Random Forest Classifier\": RandomForestClassifier(),\n",
    "    \"Ada Boost Classifier\": AdaBoostClassifier()\n",
    "}\n",
    "\n",
    "for name, model in models.items():\n",
    "    model.fit(X_train, y_train)\n",
    "    score = model.score(X_test, y_test)\n",
    "    y_pred = model.predict(X_test)\n",
    "\n",
    "    # Accuracy: {score * 100:.2f}%\")\n",
    "    print(f\"{name}:\")\n",
    "    print(\"Accuracy Score: \",accuracy_score(y_test,y_pred))\n",
    "    print(\"Precision Score: \",precision_score(y_test,y_pred))\n",
    "    print(confusion_matrix(y_test,y_pred))\n",
    "    print()"
   ]
  },
  {
   "cell_type": "markdown",
   "id": "4431e099",
   "metadata": {
    "papermill": {
     "duration": 0.021392,
     "end_time": "2024-11-04T16:27:41.480565",
     "exception": false,
     "start_time": "2024-11-04T16:27:41.459173",
     "status": "completed"
    },
    "tags": []
   },
   "source": [
    "We have best accuracy Score: 96% and best precision Score: 97% with XGB Classifier."
   ]
  }
 ],
 "metadata": {
  "kaggle": {
   "accelerator": "none",
   "dataSources": [
    {
     "datasetId": 473216,
     "sourceId": 887258,
     "sourceType": "datasetVersion"
    }
   ],
   "dockerImageVersionId": 30786,
   "isGpuEnabled": false,
   "isInternetEnabled": false,
   "language": "python",
   "sourceType": "notebook"
  },
  "kernelspec": {
   "display_name": "Python 3",
   "language": "python",
   "name": "python3"
  },
  "language_info": {
   "codemirror_mode": {
    "name": "ipython",
    "version": 3
   },
   "file_extension": ".py",
   "mimetype": "text/x-python",
   "name": "python",
   "nbconvert_exporter": "python",
   "pygments_lexer": "ipython3",
   "version": "3.10.14"
  },
  "papermill": {
   "default_parameters": {},
   "duration": 47.93311,
   "end_time": "2024-11-04T16:27:42.329167",
   "environment_variables": {},
   "exception": null,
   "input_path": "__notebook__.ipynb",
   "output_path": "__notebook__.ipynb",
   "parameters": {},
   "start_time": "2024-11-04T16:26:54.396057",
   "version": "2.6.0"
  }
 },
 "nbformat": 4,
 "nbformat_minor": 5
}
